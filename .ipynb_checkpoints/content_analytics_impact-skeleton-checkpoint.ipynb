{
 "cells": [
  {
   "cell_type": "markdown",
   "metadata": {},
   "source": [
    "# Content Analytics & Impact"
   ]
  },
  {
   "cell_type": "markdown",
   "metadata": {},
   "source": [
    "## Scenario  \n",
    "\n",
    "Imagine you want to advise your managing editor on strategies for your news organization to help them maximize their audience size and reach. (Pick a twitter account as \"your\" news organization, which you'll analyze). \n",
    "\n",
    "**Question 1**  \n",
    "What time of day should the social media editor share links to get maximal retweets and / or favorites on Twitter? Is there a difference in what the optimal time is on weekends versus weekdays?\n",
    "\n",
    "**Question 2**  \n",
    "Should the social media editor embed an image in tweets in order to get more retweets?\n",
    "\n",
    "**Question 3**  \n",
    "Should the social media editor use more or less hashtags in tweets in order to get more retweets?\n",
    "\n",
    "Answer the previous questions to provide a report. "
   ]
  },
  {
   "cell_type": "code",
   "execution_count": 1,
   "metadata": {
    "collapsed": true
   },
   "outputs": [],
   "source": [
    "# Import libraries\n",
    "import pandas as pd\n",
    "import numpy as np\n",
    "import matplotlib\n",
    "import matplotlib.pyplot as plt\n",
    "\n",
    "# Makes it so that you can scroll horizontally to see all columns of an output DataFrame\n",
    "pd.set_option('display.max_columns', None)\n",
    "# Make it so urls and tweets won't get truncated when we print them out\n",
    "pd.set_option('display.max_colwidth', -1)\n",
    "\n",
    "# This magic function allows you to see the charts directly within the notebook. \n",
    "%matplotlib inline\n",
    "\n",
    "# This command will make the plots more attractive by adopting the commone style of ggplot\n",
    "matplotlib.style.use(\"ggplot\")"
   ]
  },
  {
   "cell_type": "code",
   "execution_count": 2,
   "metadata": {
    "collapsed": false
   },
   "outputs": [
    {
     "name": "stdout",
     "output_type": "stream",
     "text": [
      "PresAdjectives\n"
     ]
    }
   ],
   "source": [
    "import tweepy\n",
    "\n",
    "#Setup and authenticate Tweepy - INSERT your keys here. \n",
    "CONSUMER_KEY = \"\"\n",
    "CONSUMER_SECRET = \"\"\n",
    "ACCESS_TOKEN = \"\"\n",
    "ACCESS_TOKEN_SECRET = \"\"\n",
    "\n",
    "auth = tweepy.OAuthHandler(CONSUMER_KEY, CONSUMER_SECRET)\n",
    "auth.set_access_token(ACCESS_TOKEN, ACCESS_TOKEN_SECRET)\n",
    "api = tweepy.API(auth)\n",
    "\n",
    "me = api.me()\n",
    "print me.screen_name"
   ]
  },
  {
   "cell_type": "markdown",
   "metadata": {},
   "source": [
    "### Collect Data\n",
    "\n",
    "The next cell contains code to get historical tweets from an account. Set the `account` parameter to that of your news organization."
   ]
  },
  {
   "cell_type": "code",
   "execution_count": 6,
   "metadata": {
    "collapsed": false
   },
   "outputs": [
    {
     "name": "stdout",
     "output_type": "stream",
     "text": [
      "Collecting page  2\n",
      "Collecting page  3\n",
      "Collecting page  4\n",
      "Collecting page  5\n",
      "Collecting page  6\n",
      "Collecting page  7\n",
      "Collecting page  8\n",
      "Collecting page  9\n",
      "Collecting page  10\n",
      "Collecting page  11\n",
      "Collecting page  12\n",
      "Collecting page  13\n",
      "Collecting page  14\n",
      "Collecting page  15\n",
      "Collecting page  16\n",
      "Total number of tweets collected:  118\n"
     ]
    }
   ],
   "source": [
    "import sys\n",
    "\n",
    "# According to Twitter docs: https://dev.twitter.com/rest/reference/get/statuses/user_timeline\n",
    "# Can only get 3,200 tweets into the history of an account\n",
    "# And you can get 200 at a time, so that's 16 sets of 200 that we can get. \n",
    "\n",
    "# Set the account you want to collect data for using screen name\n",
    "account = \"bloomberg\"\n",
    "page_size = 200\n",
    "all_tweets = [] # A list that will contain upto 3,200 tweets (we exclude RTs)\n",
    "\n",
    "# Get the first page of tweets\n",
    "max_id = sys.maxint\n",
    "tweets = api.user_timeline(account, count=page_size, include_rts=False)\n",
    "for tweet in tweets:\n",
    "    if tweet.id < max_id:\n",
    "        max_id = tweet.id\n",
    "    all_tweets.append(tweet)\n",
    "\n",
    "# Get subsequent pages of tweets\n",
    "num_pages_to_collect = 16\n",
    "for page in range(1, num_pages_to_collect):\n",
    "    print \"Collecting page \", (page+1)\n",
    "    tweets = api.user_timeline(account, count=page_size, include_rts=False, max_id=max_id)\n",
    "    for tweet in tweets:\n",
    "        if tweet.id < max_id:\n",
    "            max_id = tweet.id\n",
    "        all_tweets.append(tweet)\n",
    "        \n",
    "print \"Total number of tweets collected: \", len(all_tweets)"
   ]
  },
  {
   "cell_type": "code",
   "execution_count": 7,
   "metadata": {
    "collapsed": false
   },
   "outputs": [
    {
     "name": "stdout",
     "output_type": "stream",
     "text": [
      "{u'contributors': None,\n",
      " u'coordinates': None,\n",
      " u'created_at': u'Mon Mar 28 13:38:44 +0000 2016',\n",
      " u'entities': {u'hashtags': [{u'indices': [100, 116],\n",
      "                              u'text': u'ModiatBloomberg'}],\n",
      "               u'media': [{u'display_url': u'pic.twitter.com/dXPpP6Y12i',\n",
      "                           u'expanded_url': u'http://twitter.com/Bloomberg/status/714446629026267136/photo/1',\n",
      "                           u'id': 714446628451692546L,\n",
      "                           u'id_str': u'714446628451692546',\n",
      "                           u'indices': [117, 140],\n",
      "                           u'media_url': u'http://pbs.twimg.com/media/Ceo5bFvWsAIa6sr.jpg',\n",
      "                           u'media_url_https': u'https://pbs.twimg.com/media/Ceo5bFvWsAIa6sr.jpg',\n",
      "                           u'sizes': {u'large': {u'h': 400,\n",
      "                                                 u'resize': u'fit',\n",
      "                                                 u'w': 600},\n",
      "                                      u'medium': {u'h': 400,\n",
      "                                                  u'resize': u'fit',\n",
      "                                                  u'w': 600},\n",
      "                                      u'small': {u'h': 227,\n",
      "                                                 u'resize': u'fit',\n",
      "                                                 u'w': 340},\n",
      "                                      u'thumb': {u'h': 150,\n",
      "                                                 u'resize': u'crop',\n",
      "                                                 u'w': 150}},\n",
      "                           u'type': u'photo',\n",
      "                           u'url': u'https://t.co/dXPpP6Y12i'}],\n",
      "               u'symbols': [],\n",
      "               u'urls': [{u'display_url': u'bloom.bg/1UWV4Zv',\n",
      "                          u'expanded_url': u'http://bloom.bg/1UWV4Zv',\n",
      "                          u'indices': [76, 99],\n",
      "                          u'url': u'https://t.co/kpbqYdYEBn'}],\n",
      "               u'user_mentions': [{u'id': 18839785,\n",
      "                                   u'id_str': u'18839785',\n",
      "                                   u'indices': [3, 16],\n",
      "                                   u'name': u'Narendra Modi',\n",
      "                                   u'screen_name': u'narendramodi'}]},\n",
      " u'extended_entities': {u'media': [{u'display_url': u'pic.twitter.com/dXPpP6Y12i',\n",
      "                                    u'expanded_url': u'http://twitter.com/Bloomberg/status/714446629026267136/photo/1',\n",
      "                                    u'id': 714446628451692546L,\n",
      "                                    u'id_str': u'714446628451692546',\n",
      "                                    u'indices': [117, 140],\n",
      "                                    u'media_url': u'http://pbs.twimg.com/media/Ceo5bFvWsAIa6sr.jpg',\n",
      "                                    u'media_url_https': u'https://pbs.twimg.com/media/Ceo5bFvWsAIa6sr.jpg',\n",
      "                                    u'sizes': {u'large': {u'h': 400,\n",
      "                                                          u'resize': u'fit',\n",
      "                                                          u'w': 600},\n",
      "                                               u'medium': {u'h': 400,\n",
      "                                                           u'resize': u'fit',\n",
      "                                                           u'w': 600},\n",
      "                                               u'small': {u'h': 227,\n",
      "                                                          u'resize': u'fit',\n",
      "                                                          u'w': 340},\n",
      "                                               u'thumb': {u'h': 150,\n",
      "                                                          u'resize': u'crop',\n",
      "                                                          u'w': 150}},\n",
      "                                    u'type': u'photo',\n",
      "                                    u'url': u'https://t.co/dXPpP6Y12i'}]},\n",
      " u'favorite_count': 15,\n",
      " u'favorited': False,\n",
      " u'geo': None,\n",
      " u'id': 714446629026267136L,\n",
      " u'id_str': u'714446629026267136',\n",
      " u'in_reply_to_screen_name': None,\n",
      " u'in_reply_to_status_id': None,\n",
      " u'in_reply_to_status_id_str': None,\n",
      " u'in_reply_to_user_id': None,\n",
      " u'in_reply_to_user_id_str': None,\n",
      " u'is_quote_status': False,\n",
      " u'lang': u'en',\n",
      " u'place': None,\n",
      " u'possibly_sensitive': False,\n",
      " u'retweet_count': 11,\n",
      " u'retweeted': False,\n",
      " u'source': u'<a href=\"http://www.hootsuite.com\" rel=\"nofollow\">Hootsuite</a>',\n",
      " u'text': u'PM @narendramodi concludes his speech at our Economic Forum. Full coverage: https://t.co/kpbqYdYEBn #ModiatBloomberg https://t.co/dXPpP6Y12i',\n",
      " u'truncated': False,\n",
      " u'user': {u'contributors_enabled': False,\n",
      "           u'created_at': u'Tue Jan 12 18:39:13 +0000 2010',\n",
      "           u'default_profile': False,\n",
      "           u'default_profile_image': False,\n",
      "           u'description': u'Connecting decision makers to a dynamic network of information, people and ideas.',\n",
      "           u'entities': {u'description': {u'urls': []},\n",
      "                         u'url': {u'urls': [{u'display_url': u'bloomberg.com/company',\n",
      "                                             u'expanded_url': u'http://www.bloomberg.com/company',\n",
      "                                             u'indices': [0, 22],\n",
      "                                             u'url': u'http://t.co/PWQA5u1akF'}]}},\n",
      "           u'favourites_count': 107,\n",
      "           u'follow_request_sent': False,\n",
      "           u'followers_count': 465256,\n",
      "           u'following': False,\n",
      "           u'friends_count': 112,\n",
      "           u'geo_enabled': False,\n",
      "           u'has_extended_profile': False,\n",
      "           u'id': 104237736,\n",
      "           u'id_str': u'104237736',\n",
      "           u'is_translation_enabled': False,\n",
      "           u'is_translator': False,\n",
      "           u'lang': u'en',\n",
      "           u'listed_count': 10698,\n",
      "           u'location': u'Around the globe',\n",
      "           u'name': u'Bloomberg LP',\n",
      "           u'notifications': False,\n",
      "           u'profile_background_color': u'FFFFFF',\n",
      "           u'profile_background_image_url': u'http://pbs.twimg.com/profile_background_images/436513461325942784/UL0Zv4Us.jpeg',\n",
      "           u'profile_background_image_url_https': u'https://pbs.twimg.com/profile_background_images/436513461325942784/UL0Zv4Us.jpeg',\n",
      "           u'profile_background_tile': False,\n",
      "           u'profile_banner_url': u'https://pbs.twimg.com/profile_banners/104237736/1439840895',\n",
      "           u'profile_image_url': u'http://pbs.twimg.com/profile_images/615624605567287296/TrPA7XtD_normal.png',\n",
      "           u'profile_image_url_https': u'https://pbs.twimg.com/profile_images/615624605567287296/TrPA7XtD_normal.png',\n",
      "           u'profile_link_color': u'0084B4',\n",
      "           u'profile_sidebar_border_color': u'FFFFFF',\n",
      "           u'profile_sidebar_fill_color': u'DDDDDD',\n",
      "           u'profile_text_color': u'333333',\n",
      "           u'profile_use_background_image': True,\n",
      "           u'protected': False,\n",
      "           u'screen_name': u'Bloomberg',\n",
      "           u'statuses_count': 22892,\n",
      "           u'time_zone': u'Eastern Time (US & Canada)',\n",
      "           u'url': u'http://t.co/PWQA5u1akF',\n",
      "           u'utc_offset': -14400,\n",
      "           u'verified': True}}\n"
     ]
    }
   ],
   "source": [
    "# What does a single tweet look like?\n",
    "# Documentation for what gets delivered in a tweet object: https://dev.twitter.com/overview/api/tweets\n",
    "import pprint \n",
    "\n",
    "for i, tweet in enumerate(all_tweets):\n",
    "    if i < 1:\n",
    "        pprint.pprint(tweet._json)"
   ]
  },
  {
   "cell_type": "code",
   "execution_count": 8,
   "metadata": {
    "collapsed": false
   },
   "outputs": [
    {
     "name": "stdout",
     "output_type": "stream",
     "text": [
      "15\n",
      "11\n",
      "PM @narendramodi concludes his speech at our Economic Forum. Full coverage: https://t.co/kpbqYdYEBn #ModiatBloomberg https://t.co/dXPpP6Y12i\n",
      "2016-03-28 13:38:44\n",
      "True\n",
      "[{u'indices': [100, 116], u'text': u'ModiatBloomberg'}]\n",
      "\n"
     ]
    }
   ],
   "source": [
    "# For example, to get at a few relevant fields\n",
    "for i, tweet in enumerate(all_tweets):\n",
    "    # Comment out the next line if you want to loop through all the tweets in the all_tweets list\n",
    "    if i < 1:\n",
    "        print tweet.favorite_count\n",
    "        print tweet.retweet_count\n",
    "        print tweet.text\n",
    "        print tweet.created_at # The time will be reported in UTC (Universal Coordinated Time)\n",
    "        print tweet.entities.has_key(\"media\") # Does the tweet have \"media\" e.g. an image associated?\n",
    "        print tweet.entities[\"hashtags\"] # List of hashtags that have been parsed out of the tweet\n",
    "        print \"\""
   ]
  },
  {
   "cell_type": "markdown",
   "metadata": {},
   "source": [
    "**Question 1**  \n",
    "What time of day should the social media editor share links to get maximal retweets and / or favorites on Twitter? Is there a difference in what the optimal time is on weekends versus weekdays?"
   ]
  },
  {
   "cell_type": "code",
   "execution_count": 17,
   "metadata": {
    "collapsed": false
   },
   "outputs": [
    {
     "data": {
      "text/plain": [
       "[<matplotlib.lines.Line2D at 0xe2bb710>]"
      ]
     },
     "execution_count": 17,
     "metadata": {},
     "output_type": "execute_result"
    },
    {
     "data": {
      "image/png": "[encoded data removed]",
      "text/plain": [
       "<matplotlib.figure.Figure at 0xe2bbb00>"
      ]
     },
     "metadata": {},
     "output_type": "display_data"
    }
   ],
   "source": [
    "plt.hist([t.created_at.hour for t in all_tweets])\n",
    "\n",
    "bins = []\n",
    "for i in range(24):\n",
    "    bins.append([])\n",
    "for t in all_tweets:\n",
    "    bins[t.created_at.hour].append(t)\n",
    "\n",
    "ave_rts = []\n",
    "for i in range(24):\n",
    "    if len(bins[i]) > 0:\n",
    "        ave_rts.append(float(sum([t.retweet_count for t in bins[i]]))/len(bins[i]))\n",
    "    else:\n",
    "        ave_rts.append(float('NaN'))\n",
    "plt.plot(range(24),ave_rts)"
   ]
  },
  {
   "cell_type": "code",
   "execution_count": 18,
   "metadata": {
    "collapsed": false
   },
   "outputs": [
    {
     "data": {
      "text/plain": [
       "[<matplotlib.lines.Line2D at 0xe2afe48>]"
      ]
     },
     "execution_count": 18,
     "metadata": {},
     "output_type": "execute_result"
    },
    {
     "data": {
      "image/png": "[encoded data removed]",
      "text/plain": [
       "<matplotlib.figure.Figure at 0xe2afa20>"
      ]
     },
     "metadata": {},
     "output_type": "display_data"
    }
   ],
   "source": [
    "weekday_tweets = [t for t in all_tweets if t.created_at.weekday() < 5]\n",
    "\n",
    "plt.hist([t.created_at.hour for t in weekday_tweets])\n",
    "\n",
    "bins = []\n",
    "for i in range(24):\n",
    "    bins.append([])\n",
    "for t in weekday_tweets:\n",
    "    bins[t.created_at.hour].append(t)\n",
    "\n",
    "ave_rts = []\n",
    "for i in range(24):\n",
    "    if len(bins[i]) > 0:\n",
    "        ave_rts.append(float(sum([t.retweet_count for t in bins[i]]))/len(bins[i]))\n",
    "    else:\n",
    "        ave_rts.append(float('NaN'))\n",
    "plt.plot(range(24),ave_rts)"
   ]
  },
  {
   "cell_type": "code",
   "execution_count": 19,
   "metadata": {
    "collapsed": false
   },
   "outputs": [
    {
     "data": {
      "text/plain": [
       "[<matplotlib.lines.Line2D at 0xe627668>]"
      ]
     },
     "execution_count": 19,
     "metadata": {},
     "output_type": "execute_result"
    },
    {
     "data": {
      "image/png": "[encoded data removed]",
      "text/plain": [
       "<matplotlib.figure.Figure at 0xe6277b8>"
      ]
     },
     "metadata": {},
     "output_type": "display_data"
    }
   ],
   "source": [
    "weekday_tweets = [t for t in all_tweets if t.created_at.weekday() >= 5]\n",
    "\n",
    "plt.hist([t.created_at.hour for t in weekday_tweets])\n",
    "\n",
    "bins = []\n",
    "for i in range(24):\n",
    "    bins.append([])\n",
    "for t in weekday_tweets:\n",
    "    bins[t.created_at.hour].append(t)\n",
    "\n",
    "ave_rts = []\n",
    "for i in range(24):\n",
    "    if len(bins[i]) > 0:\n",
    "        ave_rts.append(float(sum([t.retweet_count for t in bins[i]]))/len(bins[i]))\n",
    "    else:\n",
    "        ave_rts.append(float('NaN'))\n",
    "plt.plot(range(24),ave_rts)"
   ]
  },
  {
   "cell_type": "markdown",
   "metadata": {},
   "source": [
    "**Question 2**  \n",
    "Should the social media editor embed an image in tweets in order to get more retweets?"
   ]
  },
  {
   "cell_type": "code",
   "execution_count": null,
   "metadata": {
    "collapsed": true
   },
   "outputs": [],
   "source": [
    "dict = {'retweet_count': retweet_count, 'media_list': media_list}"
   ]
  },
  {
   "cell_type": "markdown",
   "metadata": {},
   "source": [
    "**Question 3**  \n",
    "Should the social media editor use more or less hashtags in tweets in order to get more retweets?"
   ]
  },
  {
   "cell_type": "code",
   "execution_count": null,
   "metadata": {
    "collapsed": true
   },
   "outputs": [],
   "source": []
  },
  {
   "cell_type": "markdown",
   "metadata": {},
   "source": [
    "## Shareback + Discuss\n",
    "\n",
    "What were your team's findings? What was the best time of day to tweet to get RTs and favorites? What are you really measuring (and not measuring) with these metrics?\n",
    "\n",
    "What else could you possibly measure here? Are there other metrics that might be more telling?\n",
    "\n",
    "What are some possible limitations of this approach to content optimization? \n"
   ]
  },
  {
   "cell_type": "code",
   "execution_count": null,
   "metadata": {
    "collapsed": true
   },
   "outputs": [],
   "source": []
  }
 ],
 "metadata": {
  "kernelspec": {
   "display_name": "Python 2",
   "language": "python",
   "name": "python2"
  },
  "language_info": {
   "codemirror_mode": {
    "name": "ipython",
    "version": 2
   },
   "file_extension": ".py",
   "mimetype": "text/x-python",
   "name": "python",
   "nbconvert_exporter": "python",
   "pygments_lexer": "ipython2",
   "version": "2.7.10"
  }
 },
 "nbformat": 4,
 "nbformat_minor": 0
}
