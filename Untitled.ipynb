{
 "cells": [
  {
   "cell_type": "code",
   "execution_count": 6,
   "metadata": {
    "collapsed": false
   },
   "outputs": [],
   "source": [
    "from bs4 import BeautifulSoup\n",
    "import requests"
   ]
  },
  {
   "cell_type": "code",
   "execution_count": 8,
   "metadata": {
    "collapsed": false
   },
   "outputs": [
    {
     "name": "stdout",
     "output_type": "stream",
     "text": [
      "[u'The Honorable Alma Adams (NC-12)', u'The Honorable Karen Bass (CA-37)', u'The Honorable Joyce Beatty (OH-03)', u'The Honorable Sanford D. Bishop, Jr. (GA-02)', u'The Honorable Cory Booker (NJ)', u'The Honorable Corrine Brown (FL-05)', u'The Honorable G. K. Butterfield (NC-01)', u'The Honorable Andr\\xe9 Carson (IN-07)', u'The Honorable Yvette Clarke (NY-09)', u'The Honorable Wm. Lacy Clay (MO-01)', u'The Honorable Emanuel Cleaver, II (MO-05)', u'The Honorable James E. Clyburn (SC-06)', u'The Honorable John Conyers, Jr. (MI-13)', u'The Honorable Elijah E. Cummings (MD-07)', u'The Honorable Danny K. Davis (IL-07)', u'The Honorable Donna F. Edwards (MD-04)', u'The Honorable Keith Ellison (MN-05)', u'The Honorable Chaka Fattah (PA-02)', u'The Honorable Marcia L. Fudge (OH-11)', u'The Honorable Al Green (TX-09)', u'The Honorable Alcee L. Hastings (FL-20)', u'The Honorable Eleanor Holmes Norton (DC)', u'The Honorable Sheila Jackson Lee (TX-18)', u'The Honorable Hakeem Jeffries (NY-08)', u'The Honorable Eddie Bernice Johnson (TX-30)', u'The Honorable Hank Johnson (GA-04)', u'The Honorable Robin Kelly (IL-02)', u'The Honorable Brenda Lawrence (MI-14)', u'The Honorable Barbara Lee (CA-13)', u'The Honorable John Lewis (GA-05)', u'The Honorable Mia Love (UT-04)', u'The Honorable Gregory W. Meeks (NY-06)', u'The Honorable Gwen Moore (WI-04)', u'The Honorable Donald M. Payne, Jr. (NJ-10)', u'The Honorable Stacey Plaskett (VI)', u'The Honorable Charles B. Rangel (NY-13)', u'The Honorable Cedric Richmond (LA-02)', u'The Honorable Bobby L. Rush (IL-01)', u'The Honorable David Scott (GA-13)', u'The Honorable Robert C. \"Bobby\" Scott (VA-03)', u'The Honorable Terri A. Sewell (AL-07)', u'The Honorable Bennie Thompson (MS-02)', u'The Honorable Marc Veasey (TX-33)', u'The Honorable Maxine Waters (CA-43)', u'The Honorable Bonnie Watson Coleman (NJ-12)', u'The Honorable Frederica Wilson (FL-24)']\n"
     ]
    }
   ],
   "source": [
    "cbc_members_page = requests.get('https://cbc-butterfield.house.gov/members')\n",
    "bs = BeautifulSoup(cbc_members_page.text)\n",
    "\n",
    "member_titles = [m.text for m in bs.find_all(class_=\"member-title\")]\n",
    "\n",
    "print member_titles"
   ]
  },
  {
   "cell_type": "code",
   "execution_count": null,
   "metadata": {
    "collapsed": true
   },
   "outputs": [],
   "source": []
  }
 ],
 "metadata": {
  "kernelspec": {
   "display_name": "Python 2",
   "language": "python",
   "name": "python2"
  },
  "language_info": {
   "codemirror_mode": {
    "name": "ipython",
    "version": 2
   },
   "file_extension": ".py",
   "mimetype": "text/x-python",
   "name": "python",
   "nbconvert_exporter": "python",
   "pygments_lexer": "ipython2",
   "version": "2.7.10"
  }
 },
 "nbformat": 4,
 "nbformat_minor": 0
}
