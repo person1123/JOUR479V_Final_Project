{
 "cells": [
  {
   "cell_type": "markdown",
   "metadata": {},
   "source": [
    "# Autosuggestion Collection\n",
    "This function handles the core process of collecting autosuggestion data from Google or Bing."
   ]
  },
  {
   "cell_type": "code",
   "execution_count": 3,
   "metadata": {
    "collapsed": false
   },
   "outputs": [],
   "source": [
    "import requests\n",
    "import urllib\n",
    "\n",
    "# ----------------------------------------------------------------------------------------------------------------\n",
    "# collect_autosuggestions\n",
    "#\n",
    "# parameters:\n",
    "# \"source\" is either \"google\" or \"bing\"\n",
    "# \"tld\" stands for \"top level domain\" and can be any of the 2-letter country codes listed here where google operates: https://en.wikipedia.org/wiki/ISO_3166-1_alpha-2\n",
    "# \"lang\" is the language of the suggestions returned, should be two letter codes from here: https://en.wikipedia.org/wiki/List_of_ISO_639-1_codes\n",
    "# \"query\" is the query that you would like to see autocompleted\n",
    "# ----------------------------------------------------------------------------------------------------------------\n",
    "\n",
    "def collect_autosuggestions(source, tld, lang, query):\n",
    "    if source == \"google\":\n",
    "        # Some info on this api: http://shreyaschand.com/blog/2013/01/03/google-autocomplete-api/\n",
    "        url = 'http://www.google.'+tld+'/complete/search?&client=firefox&%s' % (urllib.urlencode({'q': query.encode('utf-8'), 'hl': lang}))\n",
    "       \n",
    "    elif source == \"bing\":\n",
    "        # Note: for Bing the language is controlled by the tld, so the lang parameter will have no effect on its own\n",
    "        url = 'http://api.bing.com/osjson.aspx?%s' % (urllib.urlencode({'query': query.encode('utf-8'), 'cc': tld}))\n",
    "   \n",
    "    r = requests.get(url)\n",
    "    suggestions = r.json()[1]\n",
    "    return suggestions"
   ]
  },
  {
   "cell_type": "code",
   "execution_count": 5,
   "metadata": {
    "collapsed": false
   },
   "outputs": [
    {
     "name": "stdout",
     "output_type": "stream",
     "text": [
      "<Response [200]>\n"
     ]
    },
    {
     "ename": "TypeError",
     "evalue": "expected string or buffer",
     "output_type": "error",
     "traceback": [
      "\u001b[1;31m---------------------------------------------------------------------------\u001b[0m",
      "\u001b[1;31mTypeError\u001b[0m                                 Traceback (most recent call last)",
      "\u001b[1;32m<ipython-input-5-b3ed38e6c086>\u001b[0m in \u001b[0;36m<module>\u001b[1;34m()\u001b[0m\n\u001b[0;32m      4\u001b[0m \u001b[0mmembers_text\u001b[0m \u001b[1;33m=\u001b[0m \u001b[0mrequests\u001b[0m\u001b[1;33m.\u001b[0m\u001b[0mget\u001b[0m\u001b[1;33m(\u001b[0m\u001b[1;34m\"https://www.govtrack.us/api/v2/role?current=true\"\u001b[0m\u001b[1;33m)\u001b[0m\u001b[1;33m\u001b[0m\u001b[0m\n\u001b[0;32m      5\u001b[0m \u001b[1;32mprint\u001b[0m \u001b[0mmembers_text\u001b[0m\u001b[1;33m\u001b[0m\u001b[0m\n\u001b[1;32m----> 6\u001b[1;33m \u001b[0mmembers\u001b[0m \u001b[1;33m=\u001b[0m \u001b[0mjson\u001b[0m\u001b[1;33m.\u001b[0m\u001b[0mloads\u001b[0m\u001b[1;33m(\u001b[0m\u001b[0mmembers_text\u001b[0m\u001b[1;33m)\u001b[0m\u001b[1;33m\u001b[0m\u001b[0m\n\u001b[0m\u001b[0;32m      7\u001b[0m \u001b[1;32mprint\u001b[0m \u001b[0mmembers\u001b[0m\u001b[1;33m\u001b[0m\u001b[0m\n",
      "\u001b[1;32mC:\\Anaconda2\\lib\\json\\__init__.pyc\u001b[0m in \u001b[0;36mloads\u001b[1;34m(s, encoding, cls, object_hook, parse_float, parse_int, parse_constant, object_pairs_hook, **kw)\u001b[0m\n\u001b[0;32m    337\u001b[0m             \u001b[0mparse_int\u001b[0m \u001b[1;32mis\u001b[0m \u001b[0mNone\u001b[0m \u001b[1;32mand\u001b[0m \u001b[0mparse_float\u001b[0m \u001b[1;32mis\u001b[0m \u001b[0mNone\u001b[0m \u001b[1;32mand\u001b[0m\u001b[1;33m\u001b[0m\u001b[0m\n\u001b[0;32m    338\u001b[0m             parse_constant is None and object_pairs_hook is None and not kw):\n\u001b[1;32m--> 339\u001b[1;33m         \u001b[1;32mreturn\u001b[0m \u001b[0m_default_decoder\u001b[0m\u001b[1;33m.\u001b[0m\u001b[0mdecode\u001b[0m\u001b[1;33m(\u001b[0m\u001b[0ms\u001b[0m\u001b[1;33m)\u001b[0m\u001b[1;33m\u001b[0m\u001b[0m\n\u001b[0m\u001b[0;32m    340\u001b[0m     \u001b[1;32mif\u001b[0m \u001b[0mcls\u001b[0m \u001b[1;32mis\u001b[0m \u001b[0mNone\u001b[0m\u001b[1;33m:\u001b[0m\u001b[1;33m\u001b[0m\u001b[0m\n\u001b[0;32m    341\u001b[0m         \u001b[0mcls\u001b[0m \u001b[1;33m=\u001b[0m \u001b[0mJSONDecoder\u001b[0m\u001b[1;33m\u001b[0m\u001b[0m\n",
      "\u001b[1;32mC:\\Anaconda2\\lib\\json\\decoder.pyc\u001b[0m in \u001b[0;36mdecode\u001b[1;34m(self, s, _w)\u001b[0m\n\u001b[0;32m    362\u001b[0m \u001b[1;33m\u001b[0m\u001b[0m\n\u001b[0;32m    363\u001b[0m         \"\"\"\n\u001b[1;32m--> 364\u001b[1;33m         \u001b[0mobj\u001b[0m\u001b[1;33m,\u001b[0m \u001b[0mend\u001b[0m \u001b[1;33m=\u001b[0m \u001b[0mself\u001b[0m\u001b[1;33m.\u001b[0m\u001b[0mraw_decode\u001b[0m\u001b[1;33m(\u001b[0m\u001b[0ms\u001b[0m\u001b[1;33m,\u001b[0m \u001b[0midx\u001b[0m\u001b[1;33m=\u001b[0m\u001b[0m_w\u001b[0m\u001b[1;33m(\u001b[0m\u001b[0ms\u001b[0m\u001b[1;33m,\u001b[0m \u001b[1;36m0\u001b[0m\u001b[1;33m)\u001b[0m\u001b[1;33m.\u001b[0m\u001b[0mend\u001b[0m\u001b[1;33m(\u001b[0m\u001b[1;33m)\u001b[0m\u001b[1;33m)\u001b[0m\u001b[1;33m\u001b[0m\u001b[0m\n\u001b[0m\u001b[0;32m    365\u001b[0m         \u001b[0mend\u001b[0m \u001b[1;33m=\u001b[0m \u001b[0m_w\u001b[0m\u001b[1;33m(\u001b[0m\u001b[0ms\u001b[0m\u001b[1;33m,\u001b[0m \u001b[0mend\u001b[0m\u001b[1;33m)\u001b[0m\u001b[1;33m.\u001b[0m\u001b[0mend\u001b[0m\u001b[1;33m(\u001b[0m\u001b[1;33m)\u001b[0m\u001b[1;33m\u001b[0m\u001b[0m\n\u001b[0;32m    366\u001b[0m         \u001b[1;32mif\u001b[0m \u001b[0mend\u001b[0m \u001b[1;33m!=\u001b[0m \u001b[0mlen\u001b[0m\u001b[1;33m(\u001b[0m\u001b[0ms\u001b[0m\u001b[1;33m)\u001b[0m\u001b[1;33m:\u001b[0m\u001b[1;33m\u001b[0m\u001b[0m\n",
      "\u001b[1;31mTypeError\u001b[0m: expected string or buffer"
     ]
    }
   ],
   "source": [
    "import requests\n",
    "import json\n",
    "\n",
    "members_text = requests.get(\"https://www.govtrack.us/api/v2/role?current=true\")\n",
    "print members_text\n",
    "members = json.loads(members_text)\n",
    "print members"
   ]
  },
  {
   "cell_type": "code",
   "execution_count": 2,
   "metadata": {
    "collapsed": false
   },
   "outputs": [
    {
     "name": "stdout",
     "output_type": "stream",
     "text": [
      "[u'nancy pelosi', u'nancy pelosi young', u'nancy pelosi office', u'nancy pelosi age', u'nancy pelosi twitter', u'nancy pelosi staff', u'nancy pelosi bio', u'nancy pelosi committees', u'nancy pelosi internship', u'nancy pelosi signature']\n",
      "                suggestion             datetime      search_term  tld  \\\n",
      "0             nancy pelosi  2016-03-23 16:43:18  Hillary Clinton  com   \n",
      "1       nancy pelosi young  2016-03-23 16:43:18  Hillary Clinton  com   \n",
      "2      nancy pelosi office  2016-03-23 16:43:18  Hillary Clinton  com   \n",
      "3         nancy pelosi age  2016-03-23 16:43:18  Hillary Clinton  com   \n",
      "4     nancy pelosi twitter  2016-03-23 16:43:18  Hillary Clinton  com   \n",
      "5       nancy pelosi staff  2016-03-23 16:43:18  Hillary Clinton  com   \n",
      "6         nancy pelosi bio  2016-03-23 16:43:18  Hillary Clinton  com   \n",
      "7  nancy pelosi committees  2016-03-23 16:43:18  Hillary Clinton  com   \n",
      "8  nancy pelosi internship  2016-03-23 16:43:18  Hillary Clinton  com   \n",
      "9   nancy pelosi signature  2016-03-23 16:43:18  Hillary Clinton  com   \n",
      "\n",
      "  language  engine  \n",
      "0       en  google  \n",
      "1       en  google  \n",
      "2       en  google  \n",
      "3       en  google  \n",
      "4       en  google  \n",
      "5       en  google  \n",
      "6       en  google  \n",
      "7       en  google  \n",
      "8       en  google  \n",
      "9       en  google  \n"
     ]
    }
   ],
   "source": [
    "# Example of using the function to collect from google.com the english language suggestions for \"Hillary Clinton\"\n",
    "suggestions = collect_autosuggestions(\"google\", \"com\", \"en\", \"Nancy Pelosi\")\n",
    "print suggestions\n",
    "\n",
    "# And example of putting data in Pandas dataframe and exporting the data to a .csv\n",
    "import pandas as pd\n",
    "import datetime\n",
    "\n",
    "suggestions_df = pd.DataFrame({\"suggestion\": suggestions})\n",
    "suggestions_df[\"datetime\"] = datetime.datetime.strftime(datetime.datetime.now(), '%Y-%m-%d %H:%M:%S')\n",
    "suggestions_df[\"search_term\"] = \"Hillary Clinton\"\n",
    "suggestions_df[\"tld\"] = \"com\"\n",
    "suggestions_df[\"language\"] = \"en\"\n",
    "suggestions_df[\"engine\"] = \"google\"\n",
    "print suggestions_df\n",
    "\n",
    "suggestions_df.to_csv(\"suggestions_test.csv\")"
   ]
  },
  {
   "cell_type": "code",
   "execution_count": null,
   "metadata": {
    "collapsed": true
   },
   "outputs": [],
   "source": []
  }
 ],
 "metadata": {
  "kernelspec": {
   "display_name": "Python 2",
   "language": "python",
   "name": "python2"
  },
  "language_info": {
   "codemirror_mode": {
    "name": "ipython",
    "version": 2
   },
   "file_extension": ".py",
   "mimetype": "text/x-python",
   "name": "python",
   "nbconvert_exporter": "python",
   "pygments_lexer": "ipython2",
   "version": "2.7.11"
  }
 },
 "nbformat": 4,
 "nbformat_minor": 0
}
