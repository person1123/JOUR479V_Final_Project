{
 "cells": [
  {
   "cell_type": "markdown",
   "metadata": {},
   "source": [
    "# Imports and Setup"
   ]
  },
  {
   "cell_type": "code",
   "execution_count": 2,
   "metadata": {
    "collapsed": false
   },
   "outputs": [],
   "source": [
    "import requests\n",
    "import urllib\n",
    "import requests\n",
    "import json\n",
    "import pandas as pd\n",
    "import matplotlib.pyplot as plt\n",
    "import unicodedata\n",
    "from wordcloud import WordCloud\n",
    "import re\n",
    "from unidecode import unidecode\n",
    "import scipy\n",
    "import scipy.stats\n",
    "\n",
    "%matplotlib inline"
   ]
  },
  {
   "cell_type": "code",
   "execution_count": null,
   "metadata": {
    "collapsed": true
   },
   "outputs": [],
   "source": [
    "# If this is True, searches will start with, e.g. \"Senator Barbara Mikulski\"\n",
    "# If False, they will start with, e.g. \"Barbara Mikulski\"\n",
    "INCLUDE_TITLE = False"
   ]
  },
  {
   "cell_type": "markdown",
   "metadata": {},
   "source": [
    "# Autosuggestion Collection\n",
    "This function handles the core process of collecting autosuggestion data from Google or Bing."
   ]
  },
  {
   "cell_type": "code",
   "execution_count": null,
   "metadata": {
    "collapsed": true
   },
   "outputs": [],
   "source": [
    "# ----------------------------------------------------------------------------------------------------------------\n",
    "# collect_autosuggestions\n",
    "#\n",
    "# parameters:\n",
    "# \"source\" is either \"google\" or \"bing\"\n",
    "# \"tld\" stands for \"top level domain\" and can be any of the 2-letter country codes\n",
    "#      listed here where google operates: https://en.wikipedia.org/wiki/ISO_3166-1_alpha-2\n",
    "# \"lang\" is the language of the suggestions returned, should be two letter codes \n",
    "#      from here: https://en.wikipedia.org/wiki/List_of_ISO_639-1_codes\n",
    "# \"query\" is the query that you would like to see autocompleted\n",
    "# ----------------------------------------------------------------------------------------------------------------\n",
    "\n",
    "def collect_autosuggestions(source, tld, lang, query):\n",
    "    if source == \"google\":\n",
    "        # Some info on this api: http://shreyaschand.com/blog/2013/01/03/google-autocomplete-api/\n",
    "        url = 'http://www.google.'+tld+'/complete/search?&client=firefox&%s' % (urllib.urlencode({'q': query.encode('utf-8'), 'hl': lang}))\n",
    "       \n",
    "    elif source == \"bing\":\n",
    "        # Note: for Bing the language is controlled by the tld, so the lang parameter will have no effect on its own\n",
    "        url = 'http://api.bing.com/osjson.aspx?%s' % (urllib.urlencode({'query': query.encode('utf-8'), 'cc': tld}))\n",
    "   \n",
    "    r = requests.get(url)\n",
    "    suggestions = r.json()[1]\n",
    "    return suggestions"
   ]
  },
  {
   "cell_type": "markdown",
   "metadata": {},
   "source": [
    "# Download Congress Member Data from Govtrack.us"
   ]
  },
  {
   "cell_type": "code",
   "execution_count": 3,
   "metadata": {
    "collapsed": false
   },
   "outputs": [],
   "source": [
    "members_text = requests.get(\"https://www.govtrack.us/api/v2/role?current=true&limit=800\")\n",
    "members_data = json.loads(members_text.text)\n",
    "members = members_data['objects']"
   ]
  },
  {
   "cell_type": "code",
   "execution_count": 4,
   "metadata": {
    "collapsed": false
   },
   "outputs": [
    {
     "data": {
      "text/plain": [
       "542"
      ]
     },
     "execution_count": 4,
     "metadata": {},
     "output_type": "execute_result"
    }
   ],
   "source": [
    "len(members)"
   ]
  },
  {
   "cell_type": "markdown",
   "metadata": {},
   "source": [
    "# Find autosuggestions for the Congress members\n",
    "While doing so, put the attributes we care about into a Pandas dataframe"
   ]
  },
  {
   "cell_type": "code",
   "execution_count": 41,
   "metadata": {
    "collapsed": false,
    "scrolled": false
   },
   "outputs": [
    {
     "name": "stdout",
     "output_type": "stream",
     "text": [
      "{u'senator_rank': u'junior', u'extra': {u'rss_url': u'http://www.blunt.senate.gov/public/?a=rss.feed', u'fax': u'202-224-8149', u'contact_form': u'http://www.blunt.senate.gov/public/index.cfm/contact-form?p=contact-roy', u'office': u'260 Russell Senate Office Building', u'address': u'260 Russell Senate Office Building Washington DC 20510'}, u'congress_numbers': [112, 113, 114], u'id': 268, u'startdate': u'2011-01-05', u'senator_class_label': u'Class 3', u'district': None, u'title': u'Sen.', u'title_long': u'Senator', u'current': True, u'state': u'MO', u'party': u'Republican', u'leadership_title': None, u'website': u'http://www.blunt.senate.gov', u'description': u'Junior Senator from Missouri', u'phone': u'202-224-5721', u'role_type': u'senator', u'role_type_label': u'Senator', u'enddate': u'2017-01-03', u'senator_rank_label': u'Junior', u'person': {u'name': u'Sen. Roy Blunt [R-MO]', u'firstname': u'Roy', u'twitterid': u'RoyBlunt', u'middlename': u'', u'gender': u'male', u'bioguideid': u'B000575', u'namemod': u'', u'birthday': u'1950-01-10', u'link': u'https://www.govtrack.us/congress/members/roy_blunt/400034', u'youtubeid': u'SenatorBlunt', u'sortname': u'Blunt, Roy (Sen.) [R-MO]', u'lastname': u'Blunt', u'gender_label': u'Male', u'osid': u'N00005195', u'pvsid': u'418', u'nickname': u'', u'id': 400034, u'cspanid': 45465}, u'caucus': None, u'senator_class': u'class3'}\n"
     ]
    }
   ],
   "source": [
    "# Make lists of the attributes we care about\n",
    "name = []\n",
    "auto_suggestion = []\n",
    "gender = []\n",
    "party = []\n",
    "rank = []\n",
    "caucus = []\n",
    "firstname = []\n",
    "lastname = []\n",
    "title = []\n",
    "title_long = []\n",
    "\n",
    "print members[0]\n",
    "\n",
    "for member in members:\n",
    "    name.append(member['person']['name'])\n",
    "    gender.append(member['person']['gender'])\n",
    "    party.append(member['party'])\n",
    "    rank.append(member['senator_rank'])\n",
    "    caucus.append(member['caucus'])\n",
    "    firstname.append(member['person']['firstname'])\n",
    "    lastname.append(member['person']['lastname'])\n",
    "    title.append(member['title'])\n",
    "    title_long.append(member['title_long'])\n",
    "    \n",
    "    search_string = member['title'] + ' ' if INCLUDE_TITLE else ''\n",
    "    search_string += member['person']['firstname'] + ' ' + member['person']['lastname']\n",
    "    \n",
    "    suggestions = collect_autosuggestions(\"google\", \"com\", \"en\", search_string)\n",
    "    auto_suggestion.append(suggestions)"
   ]
  },
  {
   "cell_type": "code",
   "execution_count": 6,
   "metadata": {
    "collapsed": false,
    "scrolled": true
   },
   "outputs": [],
   "source": [
    "dict_total = {\"name\": name, \"gender\": gender, \"suggestion\": auto_suggestion, 'party': party, 'rank': rank, 'firstname': firstname, 'lastname': lastname, 'title': title, 'title_long': title_long}\n",
    "df = pd.DataFrame(dict_total)"
   ]
  },
  {
   "cell_type": "markdown",
   "metadata": {},
   "source": [
    "# Functions for analysis"
   ]
  },
  {
   "cell_type": "code",
   "execution_count": 7,
   "metadata": {
    "collapsed": true
   },
   "outputs": [],
   "source": [
    "# ----------------------------------------------------------------------------------------------------------------\n",
    "# find_people_for_term\n",
    "#\n",
    "# parameters:\n",
    "# \"df_in\" is a Pandas dataframe containing (at least) the names of members and lists\n",
    "#      of autosuggestions\n",
    "# \"term\" is the term to be found in the autosuggestions\n",
    "#\n",
    "# return values:\n",
    "# \"found\" is a list of the complete suggestions containing term\n",
    "# \"people\" is a list of the rows from the dataframe of the members who had a\n",
    "#      suggestion including term\n",
    "# ----------------------------------------------------------------------------------------------------------------\n",
    "\n",
    "\n",
    "def find_people_for_term(df_in, term):\n",
    "    found = []\n",
    "    people = []\n",
    "    for idx, row in df_in.iterrows():\n",
    "        for i in row['suggestion']:\n",
    "            if term.lower() in i:\n",
    "                found.append(i)\n",
    "                people.append(row)\n",
    "    return found, people"
   ]
  },
  {
   "cell_type": "code",
   "execution_count": 39,
   "metadata": {
    "collapsed": true
   },
   "outputs": [],
   "source": [
    "# ----------------------------------------------------------------------------------------------------------------\n",
    "# compare_lists\n",
    "#\n",
    "# parameters:\n",
    "# \"list1\" and \"list2\" are the lists of words suggested for each category. Each\n",
    "#      autosuggestion of a word is represented by a duplicate of the word in the list. \n",
    "# \"len1\" and \"len2\" are the number of people in the categories each list came from\n",
    "#\n",
    "# return values:\n",
    "# \"combined_dict\" is a dictionary where the keys are words from the list of autosuggestions\n",
    "#      and the values are the the reciprocal of the p-value given by a chi-squared test of\n",
    "#      the form below, signed to indicate which group is overrepresented,\n",
    "#      where n1 is the number of times the word appears in list1 and n2 is the number of\n",
    "#      times the word appears in list2\n",
    "#\n",
    "#        +---------------+---------+---------+\n",
    "#        |               | Group 1 | Group 2 |\n",
    "#        +---------------+---------+---------+\n",
    "#        | Suggested     | n1      |      n2 |\n",
    "#        +---------------+---------+---------+\n",
    "#        | Not Suggested | len1-n1 | len2-n2 |\n",
    "#        +---------------+---------+---------+\n",
    "#\n",
    "# \"dict1\" and \"dict2\" are dictionaries where the key is a word that was suggested and the\n",
    "#      value is the number of times it appeared in list1 or list2, respectively\n",
    "# ----------------------------------------------------------------------------------------------------------------\n",
    "\n",
    "def compare_lists(list1, list2, len1, len2):\n",
    "    dict1 = {}\n",
    "    dict2 = {}\n",
    "    \n",
    "    for word in list1:\n",
    "        if word in dict1:\n",
    "            dict1[word] += 1\n",
    "        else:\n",
    "            dict1[word] = 1\n",
    "            \n",
    "    for word in list2:\n",
    "        if word in dict2:\n",
    "            dict2[word] += 1\n",
    "        else:\n",
    "            dict2[word] = 1\n",
    "            \n",
    "    combined_dict = {}\n",
    "    \n",
    "    len1 = float(len1)\n",
    "    len2 = float(len2)\n",
    "    \n",
    "    for word in dict2:\n",
    "        if word not in dict1:\n",
    "            dict1[word] = 0\n",
    "    for word in dict1:\n",
    "        if word not in dict2:\n",
    "            dict2[word] = 0\n",
    "        if dict1[word] + dict2[word] > 7 and len(word) > 0:\n",
    "            table = [[dict1[word], dict2[word]],[len1-dict1[word],len2-dict2[word]]]\n",
    "            _, combined_dict[word], _, _ = scipy.stats.chi2_contingency(table)\n",
    "            \n",
    "            combined_dict[word] = 1/combined_dict[word]\n",
    "\n",
    "            if dict2[word]/len2 > dict1[word]/len1:\n",
    "                combined_dict[word] *= -1\n",
    "            \n",
    "    return (combined_dict, dict1, dict2)"
   ]
  },
  {
   "cell_type": "code",
   "execution_count": 9,
   "metadata": {
    "collapsed": true
   },
   "outputs": [],
   "source": [
    "# ----------------------------------------------------------------------------------------------------------------\n",
    "# get_terms_list\n",
    "#\n",
    "# parameters:\n",
    "# \"df_in\" is a Pandas dataframe containing (at least) the names of members and lists\n",
    "#      of autosuggestions\n",
    "#\n",
    "# return values:\n",
    "# \"fin_list\" is a list of the terms suggested as searches for the members in df_in,\n",
    "#      based on removing their names and titles. If a term is suggested for multiple members\n",
    "#      it appears the corresponding member of times, but a maximum of once per member.\n",
    "# ----------------------------------------------------------------------------------------------------------------\n",
    "\n",
    "def get_terms_list(df_in):\n",
    "    text_list = []\n",
    "    fin_list = []\n",
    "\n",
    "    for idx, i in df_in.iterrows():\n",
    "        new_words = {}\n",
    "        for e in i['suggestion']:\n",
    "            skip_words = ['congressman','congresswoman']\n",
    "            skip_words += [i['firstname'],i['lastname'], re.sub(r'\\W+', '', i['title']), i['title_long']]\n",
    "            skip_words += i['name'].split(' ')\n",
    "            for k, s in enumerate(skip_words):\n",
    "                skip_words[k] = s.lower()\n",
    "            \n",
    "            fd = []\n",
    "            tokens = e.split(' ')\n",
    "            for t in tokens:\n",
    "                if len(t) > 2 and t not in skip_words:\n",
    "                    fd.append(t)\n",
    "            new_words[\" \".join(fd)] = True\n",
    "                    \n",
    "        for k in new_words.keys():\n",
    "            fin_list.append(k)\n",
    "    \n",
    "    return fin_list"
   ]
  },
  {
   "cell_type": "code",
   "execution_count": 40,
   "metadata": {
    "collapsed": true
   },
   "outputs": [],
   "source": [
    "# ----------------------------------------------------------------------------------------------------------------\n",
    "# compare_suggestions\n",
    "#\n",
    "# parameters:\n",
    "# \"df_a\" and \"df_b\" are Pandas dataframes containing (at least) the names of members and lists\n",
    "#      of autosuggestions, for each of the two categories being compared\n",
    "# \"output\" is whether or not to print the results of the comparison\n",
    "#\n",
    "# return values:\n",
    "# \"sorted_keys\" is a list of the terms suggested as searches for the members in df_in,\n",
    "#      sorted by the strength of their correlation to group a.\n",
    "#  compared_dict is a dictionary where the keys are the terms suggested as searches\n",
    "#      and the values are signed reciprocals of p-values (see compare_lists)\n",
    "# ----------------------------------------------------------------------------------------------------------------\n",
    "\n",
    "def compare_suggestions(df_a, df_b, output = True):\n",
    "    terms_a = get_terms_list(df_a)\n",
    "    terms_b = get_terms_list(df_b)\n",
    "    \n",
    "    compared_dict, dict_a, dict_b = compare_lists(terms_a, terms_b, len(df_a), len(df_b))\n",
    "    sorted_keys = sorted(compared_dict, key=compared_dict.get)\n",
    "    \n",
    "    if output:\n",
    "        for key in sorted_keys:\n",
    "            print key + \": \" + str(compared_dict[key])\n",
    "            print \"        a: %d b: %d\" % (dict_a[key] if key in dict_a else 0, dict_b[key] if key in dict_b else 0)\n",
    "    \n",
    "    return sorted_keys, compared_dict"
   ]
  },
  {
   "cell_type": "markdown",
   "metadata": {},
   "source": [
    "# Comparison by gender"
   ]
  },
  {
   "cell_type": "code",
   "execution_count": 42,
   "metadata": {
    "collapsed": false
   },
   "outputs": [
    {
     "name": "stdout",
     "output_type": "stream",
     "text": [
      "Female members of Congress: 108\n",
      "Male members of Congress: 434\n"
     ]
    }
   ],
   "source": [
    "df_male = df[df[\"gender\"]==\"male\"]\n",
    "df_female = df[df[\"gender\"]==\"female\"]\n",
    "\n",
    "print \"Female members of Congress: \" + str(df_female.shape[0])\n",
    "print \"Male members of Congress: \" + str(df_male.shape[0])"
   ]
  },
  {
   "cell_type": "code",
   "execution_count": 30,
   "metadata": {
    "collapsed": false
   },
   "outputs": [
    {
     "name": "stdout",
     "output_type": "stream",
     "text": [
      "wife: -185.542404295\n",
      "        a: 0 b: 34\n",
      "obituary: -39.6956507271\n",
      "        a: 0 b: 24\n",
      "congress: -35.8998365183\n",
      "        a: 9 b: 76\n",
      "linkedin: -13.3595718836\n",
      "        a: 0 b: 17\n",
      "actor: -5.07693411748\n",
      "        a: 0 b: 11\n",
      "primary: -4.52516441257\n",
      "        a: 6 b: 43\n",
      "supreme court: -3.62007203653\n",
      "        a: 3 b: 26\n",
      "ted cruz: -3.61752153834\n",
      "        a: 0 b: 9\n",
      "donald trump: -3.0390795124\n",
      "        a: 1 b: 14\n",
      "committee assignments: -2.85224978844\n",
      "        a: 4 b: 29\n",
      "email address: -1.44123903022\n",
      "        a: 1 b: 9\n",
      "net worth: -1.37606519554\n",
      "        a: 7 b: 35\n",
      "endorsement: -1.33585570201\n",
      "        a: 2 b: 13\n",
      "trump: -1.21625654515\n",
      "        a: 5 b: 25\n",
      "contact: -1.1621775395\n",
      "        a: 4 b: 17\n",
      "immigration: -1.0716614808\n",
      "        a: 1 b: 7\n",
      "for senate: -1.05318960385\n",
      "        a: 4 b: 18\n",
      "voting record: -1.0413606222\n",
      "        a: 11 b: 46\n",
      "retiring: 1.05859915939\n",
      "        a: 4 b: 13\n",
      "website: 1.0716614808\n",
      "        a: 2 b: 6\n",
      "youtube: 1.0716614808\n",
      "        a: 2 b: 6\n",
      "address: 1.1621775395\n",
      "        a: 5 b: 16\n",
      "wiki: 1.20532482591\n",
      "        a: 21 b: 78\n",
      "biography: 1.21625654515\n",
      "        a: 6 b: 24\n",
      "florida: 1.24221346443\n",
      "        a: 2 b: 7\n",
      "family: 1.33585570201\n",
      "        a: 3 b: 12\n",
      "tpp: 1.33585570201\n",
      "        a: 3 b: 12\n",
      "quotes: 1.45951568572\n",
      "        a: 3 b: 7\n",
      "email: 1.71339957191\n",
      "        a: 5 b: 13\n",
      "cuba: 1.71339957191\n",
      "        a: 5 b: 13\n",
      "instagram: 2.03053105729\n",
      "        a: 5 b: 12\n",
      "age: 2.38549359998\n",
      "        a: 3 b: 5\n",
      "district map: 5.30563617019\n",
      "        a: 10 b: 23\n",
      "district: 6.39221755432\n",
      "        a: 24 b: 69\n",
      "for congress: 7.87908889087\n",
      "        a: 60 b: 203\n",
      "facebook: 9.4988908363\n",
      "        a: 47 b: 150\n",
      "chief staff: 10.3238643802\n",
      "        a: 39 b: 119\n",
      "senate: 10.5852285899\n",
      "        a: 14 b: 32\n",
      "scheduler: 12.758744465\n",
      "        a: 5 b: 6\n",
      "bernie sanders: 84.0604513753\n",
      "        a: 7 b: 7\n",
      "committees: 122.592017234\n",
      "        a: 67 b: 205\n",
      "hillary clinton: 170.991579507\n",
      "        a: 9 b: 10\n",
      "bio: 214.184150424\n",
      "        a: 33 b: 77\n",
      "twitter: 300.78655851\n",
      "        a: 91 b: 302\n",
      "2016: 551.371241771\n",
      "        a: 6 b: 3\n",
      "internship: 2037.74330389\n",
      "        a: 33 b: 67\n",
      "staff: 5418.25306773\n",
      "        a: 95 b: 302\n",
      "office: 1190264.94587\n",
      "        a: 78 b: 196\n",
      "husband: 7187360.14356\n",
      "        a: 8 b: 0\n"
     ]
    }
   ],
   "source": [
    "suggestions, values = compare_suggestions(df_female, df_male)"
   ]
  },
  {
   "cell_type": "markdown",
   "metadata": {},
   "source": [
    "To check for name collisions, examine the results of some of the more dubious queries.\n",
    "This code prints the specific queries for each keyword."
   ]
  },
  {
   "cell_type": "code",
   "execution_count": 44,
   "metadata": {
    "collapsed": false
   },
   "outputs": [
    {
     "name": "stdout",
     "output_type": "stream",
     "text": [
      "wife\n",
      "[u'john mccain wife', u'ron wyden wife', u'john thune wife', u'marco rubio wife', u'rand paul wife', u'ted cruz wife', u'bernie sanders wife', u'thad cochran wife', u'michael einziger wife', u'elijah cummings wife', u'chaka fattah wife', u'chaka fattah jr wife', u'sam johnson wife', u'frank lucas wife', u'gregory meeks wife', u'david price wife', u'dana rohrabacher wife', u'paul ryan wife', u'adrian smith wife', u'jason chaffetz wife', u'duncan hunter wife', u'david schweikert wife', u'rob woodall wife', u'trey gowdy wife', u'sean duffy wife', u'tom cotton wife', u'patrick murphy wife', u'hakeem jeffries wife', u\"beto o'rourke wife\", u'joaquin castro wife', u'denny hecker wife', u'mark desaulnier wife', u'garret graves wife', u'bruce poliquin wife', u'david rouzer wife']\n",
      "linkedin\n",
      "[u'michael doyle linkedin', u'james mcgovern linkedin', u'michael simpson linkedin', u'daniel lipinski linkedin', u'brian higgins linkedin', u'robert wittman linkedin', u'thomas rooney linkedin', u'glenn thompson linkedin', u'mike quigley linkedin', u'eric crawford linkedin', u'christopher gibson linkedin', u'patrick meehan linkedin', u'sean maloney linkedin', u'matthew cartwright linkedin', u'gary palmer linkedin', u'daniel donovan linkedin']\n",
      "actor\n",
      "[u'patrick toomey actor', u'robert casey actor', u'christopher murphy actor', u'michael burgess actor', u'john duncan actor', u'walter jones actor', u'tim murphy actor', u'tim ryan actor', u'michael simpson actor', u'kevin mccarthy actor', u'tom reed actor', u'austin scott actor', u'jason smith actor']\n",
      "committee assignments\n",
      "[u'richard burr committee assignments', u'joe donnelly committee assignments', u'robert aderholt committee assignments', u'earl blumenauer committee assignments', u'james clyburn committee assignments', u'bennie thompson committee assignments', u'patrick tiberi committee assignments', u'tom udall committee assignments', u'charles boustany committee assignments', u'peter roskam committee assignments', u'dave loebsack committee assignments', u'james risch committee assignments', u'randy hultgren committee assignments', u'larry bucshon committee assignments', u'cedric richmond committee assignments', u'david cicilline committee assignments', u'bill flores committee assignments', u'rodney davis committee assignments', u'ann kuster committee assignments', u'filemon vela committee assignments', u'derek kilmer committee assignments', u'mark pocan committee assignments', u'david jolly committee assignments', u'ruben gallego committee assignments', u'mimi walters committee assignments', u'buddy carter committee assignments', u'mark takai committee assignments', u'lee zeldin committee assignments', u'john katko committee assignments', u'ryan costello committee assignments', u'dan newhouse committee assignments', u'glenn grothman committee assignments', u'mike rounds committee assignments']\n",
      "obituary\n",
      "[u'patrick toomey obituary', u'robert casey obituary', u'john reed obituary', u'jim cooper obituary', u'michael doyle obituary', u'betty mccollum obituary', u'james mcgovern obituary', u'richard neal obituary', u'harold rogers obituary', u'marshall sanford obituary', u'charles denton obituary', u'james himes obituary', u'thomas rooney obituary', u'glenn thompson obituary', u'richard nugent obituary', u'william keating obituary', u'joseph heck obituary', u'charles fleischmann iii obituary', u'robert hurt obituary', u'david mckinley obituary', u'donald payne obituary', u'matthew cartwright obituary', u'donald beyer obituary', u'daniel donovan obituary']\n",
      "ted cruz\n",
      "[u'ted cruz', u'ted cruz wife', u'ted cruz twitter', u'ted cruz canada', u'ted cruz smiling', u'ted cruz height', u'ted cruz canadian', u'ted cruz family', u'ted cruz real name', u'ted cruz citizenship', u'john cornyn ted cruz', u'dana rohrabacher ted cruz', u'alan grayson ted cruz', u'tom mcclintock ted cruz', u'mo brooks ted cruz', u'jeff duncan ted cruz', u'jim bridenstine ted cruz', u'ken buck ted cruz']\n",
      "congress\n",
      "[u'darin lahood for congress', u'pedro pierluisi congress', u'robert aderholt for congress', u'joe barton for congress', u'joe barton congressman', u'xavier becerra for congress', u'rob bishop for congress', u'sanford bishop for congress', u'marsha blackburn for congress', u'earl blumenauer for congress', u'madeleine bordallo congresswoman', u'kevin brady for congress', u'kevin brady congressman', u'corrine brown for congress', u'michael burgess for congress', u'ken calvert for congress', u'lois capps for congress', u'michael capuano for congress', u'john carter congress', u'steve chabot for congress', u'mark walker for congress', u'tom cole for congress', u'john conyers congressman', u'john conyers congress', u'jim cooper congress', u'ander crenshaw for congress', u'joseph crowley for congress', u'john culberson for congress', u'danny davis congress', u'susan davis for congress', u'peter defazio for congress', u'diana degette for congress', u'rosa delauro for congress', u'mario diaz-balart for congress', u'lloyd doggett for congress', u'john duncan congress', u'eliot engel for congress', u'anna eshoo for congress', u'anna eshoo congresswoman', u'sam farr congress', u'chaka fattah for congress', u'chaka fattah congressional district', u'trent franks for congress', u'rodney frelinghuysen for congress', u'bob goodlatte for congress', u'kay granger for congress', u'sam graves for congress', u'gene green for congress', u'raul grijalva for congress', u'alcee hastings for congress', u'jeb hensarling for congress', u'ruben hinojosa for congress', u'ruben hinojosa congressman', u'michael honda congressman', u'mike honda congress', u'steve israel for congress', u'darrell issa for congress', u'sheila jackson lee congress', u'eddie johnson congress', u'sam johnson for congress', u'walter jones congress', u'marcy kaptur for congress', u'ron kind for congress', u'ron kind congressional district', u'peter king for congress', u'steve king for congress', u'james langevin for congress', u'rick larsen for congress', u'john larson for congress', u'barbara lee for congress', u'john lewis congressman', u'frank lobiondo for congress', u'zoe lofgren for congress', u'frank lucas congress', u'frank lucas congressman', u'stephen lynch congress', u'carolyn maloney for congress', u'betty mccollum for congress', u'james mcgovern congressman', u'james mcgovern congress', u'gregory meeks for congress', u'john mica for congress', u'candice miller congress', u'jeff miller for congress', u'tim murphy for congress', u'jerrold nadler for congress', u'grace napolitano for congress', u'eleanor norton congress', u'devin nunes for congress', u'frank pallone for congress', u'bill pascrell for congress', u'steve pearce congress', u'collin peterson for congress', u'david price congress', u'harold rogers congress', u'mike rogers congress', u'edward royce congress', u'edward royce congressional district map', u'congressman edward royce', u'bobby rush congress', u'tim ryan for congress', u'tim ryan congressional district', u'linda sanchez congress', u'linda sanchez congresswoman', u'adam schiff for congress', u'david scott congress', u'robert scott congress', u'jose serrano congressman', u'pete sessions for congress', u'brad sherman for congress', u'john shimkus for congress', u'louise slaughter for congress', u'adam smith congressman', u'christopher smith congress', u'lamar smith for congress', u'mike thompson for congress', u'mac thornberry for congress', u'patrick tiberi congressman', u'michael turner congress', u'nydia velazquez congress', u'pete visclosky for congress', u'greg walden for congress', u'maxine waters for congress', u'joe wilson congress', u'don young congress', u'matt salmon congress', u'jim costa for congress', u'debbie wasserman schultz for congress', u'tom price congress', u'daniel lipinski for congress', u'charles boustany for congress', u'emanuel cleaver for congress', u'jeff fortenberry for congress', u'brian higgins for congress', u'patrick mchenry for congress', u'patrick mchenry congressman', u'michael fitzpatrick congress', u'louie gohmert for congress', u'ted poe congress', u'al green congress', u'michael mccaul for congress', u'kenny marchant for congress', u'henry cuellar for congress', u'cathy mcmorris rodgers for congress', u'david reichert congress', u'gwen moore congress', u'doris matsui for congress', u'richard nolan congress', u'bill shuster for congress', u'albio sires congressman', u'jerry mcnerney for congress', u'doug lamborn for congress', u'ed perlmutter for congress', u'joe courtney for congress', u'kathy castor for congress', u'vern buchanan for congress', u'henry johnson congressman', u'peter roskam for congress', u'dave loebsack for congress', u'john yarmuth for congress', u'john sarbanes for congress', u'tim walberg for congress', u'timothy walz congress', u'keith ellison for congress', u'adrian smith congress', u'yvette clarke for congress', u'jim jordan for congress', u'steve cohen congress', u'peter welch congress', u'gus bilirakis for congress', u'niki tsongas for congress', u'bill foster congress', u'andre carson for congress', u'jackie speier for congress', u'steve scalise for congress', u'jason chaffetz for congress', u'mike coffman for congress', u'gerald connolly congressman', u'john fleming congress', u'alan grayson congress', u'brett guthrie for congress', u'gregg harper for congress', u'james himes congress', u'james himes congressman', u'duncan hunter for congress', u'lynn jenkins for congress', u'ann kirkpatrick congress', u'leonard lance for congress', u'blaine luetkemeyer for congress', u'ben lujan congressman', u'ben lujan congress', u'tom mcclintock for congress', u'pete olson congress', u'erik paulsen for congress', u'gary peters congress', u'chellie pingree for congress', u'jared polis for congress', u'jared polis congressman', u'bill posey for congress', u'david roe congress', u'kurt schrader for congress', u'glenn thompson for congress', u'dina titus for congress', u'paul tonko for congress', u'marcia fudge for congress', u'mike quigley for congress', u'mike quigley congressman', u'judy chu for congress', u'judy chu congresswoman', u'john garamendi for congress', u'ted deutch for congress', u'ted deutch congressman', u'tom graves for congress', u'tom reed for congress', u'martha roby for congress', u'mo brooks for congress', u'terri sewell for congress', u'paul gosar congress', u'david schweikert for congress', u'steve womack congress', u'jeff denham for congress', u'karen bass for congress', u'scott tipton for congress', u'daniel webster congress', u'dennis ross for congress', u'frederica wilson for congress', u'rob woodall for congress', u'austin scott for congress', u'bob dold for congress', u'adam kinzinger for congress', u'randy hultgren for congress', u'todd rokita for congress', u'larry bucshon for congress', u'todd young congress', u'kevin yoder for congress', u'mike pompeo congress', u'cedric richmond for congress', u'andy harris congress', u'dan benishek for congress', u'bill huizenga for congress', u'justin amash for congress', u'steven palazzo for congress', u'vicky hartzler for congress', u'frank guinta for congress', u'richard hanna for congress', u'renee ellmers for congress', u'bill johnson for congress', u'steve stivers for congress', u'steve stivers congressman', u'bob gibbs for congress', u'mike kelly for congress', u'patrick meehan for congress', u'tom marino for congress', u'lou barletta for congress', u'david cicilline for congress', u'jeff duncan for congress', u'trey gowdy for congress', u'mick mulvaney for congress', u'kristi noem for congress', u'charles fleischmann congress', u'scott desjarlais for congress', u'diane black congress', u'bill flores for congress', u'blake farenthold for congress', u'robert hurt congressman', u'jaime herrera beutler for congress', u'david mckinley for congress', u'sean duffy for congress', u'reid ribble for congress', u'janice hahn for congress', u'mark amodei for congress', u'suzanne bonamici for congress', u'thomas massie for congress', u'suzan delbene congress', u'kyrsten sinema for congress', u'doug lamalfa for congress', u'ami bera for congress', u'paul cook congress', u'eric swalwell for congress', u'david valadao for congress', u'julia brownley for congress', u'tony cardenas for congress', u'tony cardenas congressman', u'mark takano for congress', u'alan lowenthal for congress', u'juan vargas for congress', u'scott peters for congress', u'elizabeth esty for congress', u'ted yoho for congress', u'patrick murphy congress', u'lois frankel for congress', u'doug collins congress', u'rodney davis for congress', u'jackie walorski for congress', u'susan brooks for congress', u'luke messer for congress', u'garland barr congress', u'joseph kennedy congress', u'john delaney for congress', u'daniel kildee congress', u'ann wagner for congress', u'richard hudson for congress', u'robert pittenger for congress', u'mark meadows for congress', u'george holding for congress', u'kevin cramer congress', u'ann kuster for congress', u'michelle lujan grisham for congress', u'grace meng for congress', u'hakeem jeffries for congress', u'sean maloney congress', u'chris collins congress', u'brad wenstrup congress', u'joyce beatty for congress', u'david joyce for congress', u'jim bridenstine for congress', u'markwayne mullin for congress', u'scott perry for congress', u'keith rothfus for congress', u'tom rice for congress', u'randy weber for congress', u\"beto o'rourke congress\", u'joaquin castro congress', u'roger williams congress', u'marc veasey for congress', u'filemon vela congress', u'chris stewart for congress', u'mark pocan for congress', u'robin kelly congress', u'jason smith for congress', u'katherine clark for congress', u'katherine clark congresswoman', u'bradley byrne for congress', u'david jolly congress', u'curt clawson congress', u'david brat congress', u'donald norcross for congress', u'alma adams for congress', u'gary palmer for congress', u'french hill for congress', u'bruce westerman for congress', u'martha mcsally congress', u'ruben gallego for congress', u'mark desaulnier for congress', u'steve knight for congress', u'pete aguilar for congress', u'ted lieu for congress', u'norma torres for congress', u'mimi walters for congress', u'ken buck congress', u'gwen graham for congress', u'carlos curbelo for congress', u'buddy carter for congress', u'jody hice for congress', u'barry loudermilk for congress', u'rick allen congress', u'mark takai for congress', u'rod blum congress', u'david young for congress', u'mike bost for congress', u'mike bost congressman', u'ralph abraham for congress', u'ralph abraham congressman', u'garret graves for congress', u'seth moulton for congress', u'bruce poliquin for congress', u'john moolenaar for congress', u'mike bishop for congress', u'dave trott congress', u'dave trott congressman', u'debbie dingell for congress', u'tom emmer for congress', u'ryan zinke for congress', u'david rouzer congress', u'brad ashford for congress', u'tom macarthur for congress', u'bonnie watson coleman for congress', u'cresent hardy congress', u'lee zeldin for congress', u'lee zeldin congressman', u'kathleen rice for congress', u'elise stefanik for congress', u'steve russell for congress', u'ryan costello for congress', u'brendan boyle for congress', u'will hurd for congress', u'brian babin for congress', u'mia love for congress', u'stacey plaskett for congress', u'glenn grothman for congress', u'alex mooney for congress', u'evan jenkins for congress', u'congresswoman aumua amata', u'daniel donovan congressman', u'trent kelly for congress']\n",
      "ballotpedia\n",
      "[u'sheldon whitehouse ballotpedia', u'lynn westmoreland ballotpedia', u'marlin stutzman ballotpedia', u'james lankford ballotpedia', u'marc veasey ballotpedia', u'pete aguilar ballotpedia', u'cresent hardy ballotpedia']\n",
      "artist\n",
      "[u'robert brady artist', u'john duncan artist', u'adrian smith artist', u'john fleming artist', u'thomas rooney artist', u'mike kelley artist', u'patrick meehan artist', u'h griffiths artist', u'richard hudson artist']\n",
      "iii\n",
      "[u'joseph biden iii', u'jefferson beauregard sessions iii', u'john conyers iii', u'bill pascrell iii', u'emanuel cleaver iii', u'charles fleischmann iii', u'charles fleischmann iii obituary', u'charles fleischmann iii cincinnati', u'joseph kennedy iii']\n",
      "texas\n",
      "[u'alcee hastings texas', u'alcee hastings texas daily show', u'randy neugebauer texas', u'k michael conaway texas', u'henry cuellar texas', u'filemon vela texas', u'will hurd texas']\n",
      "nfl\n",
      "[u'daniel coats nfl', u'jeff miller nfl', u'michael turner nfl', u'tim scott nfl', u'donald payne nfl', u'jason smith nfl']\n",
      "family\n",
      "[u'richard blumenthal family', u'ted cruz family', u'heidi heitkamp family', u'bob corker family', u'kirsten gillibrand family act', u'joseph biden family', u'jeff fortenberry family', u'bill cassidy family', u'ben sasse family', u'tim huelskamp family', u'cedric richmond family', u'joseph kennedy family', u\"beto o'rourke family\", u'bradley byrne family', u'buddy carter family', u'mark takai family', u'garret graves family']\n",
      "cuba\n",
      "[u'heidi heitkamp cuba', u'amy klobuchar cuba', u'dean heller cuba', u'jeff flake cuba', u'xavier becerra cuba', u'eliot engel cuba', u'ileana ros-lehtinen cuba', u'henry cuellar cuba', u'albio sires cuba', u'kathy castor cuba', u'peter welch cuba', u'karen bass cuba', u'alan lowenthal cuba', u'cheri bustos cuba', u'robin kelly cuba', u'tom emmer cuba']\n",
      "committees\n",
      "[u'roy blunt committees', u'john boozman committees', u'richard burr committees', u'mark kirk committees', u'jerry moran committees', u'rob portman committees', u'patrick toomey committees', u'patrick leahy committees', u'barbara mikulski committees', u'lisa murkowski committees', u'charles schumer committees', u'ron wyden committees', u'john thune committees', u'lamar alexander committees', u'daniel coats committees', u'darin lahood committees', u'michael bennet committees', u'kelly ayotte committees', u'john hoeven committees', u'ron johnson committees', u'roger wicker committees', u'timothy kaine committees', u'deb fischer committees', u'angus king committees', u'john barrasso committees', u'sheldon whitehouse committees', u'robert casey committees', u'jon tester committees', u'claire mccaskill committees', u'dean heller committees', u'mazie hirono committees', u'debbie stabenow committees', u'bill nelson committees', u'orrin hatch committees', u'maria cantwell committees', u'jeff flake committees', u'benjamin cardin committees', u'sherrod brown committees', u'tammy baldwin committees', u'thad cochran committees', u'susan collins committees', u'john cornyn committees', u'richard durbin committees', u'james inhofe committees', u'mitch mcconnell committees', u'jefferson sessions committees', u'joe barton committees', u'xavier becerra committees', u'sanford bishop committees', u'marsha blackburn committees', u'corrine brown committees', u'michael burgess committees', u'ken calvert committees', u'lois capps committees', u'michael capuano committees', u'steve chabot committees', u'mark walker committees', u'jim cooper committees', u'ander crenshaw committees', u'john culberson committees', u'susan davis committees', u'peter defazio committees', u'diana degette committees', u'rosa delauro committees', u'mario diaz-balart committees', u'anna eshoo committees', u'sam farr committees', u'trent franks committees', u'rodney frelinghuysen committees', u'sam graves committees', u'gene green committees', u'alcee hastings committees', u'steny hoyer committees', u'steve israel committees', u'darrell issa committees', u'sam johnson committees', u'marcy kaptur committees', u'ron kind committees', u'peter king committees', u'john kline committees', u'rick larsen committees', u'john larson committees', u'barbara lee committees', u'sander levin committees', u'frank lobiondo committees', u'edward markey committees', u'betty mccollum committees', u'jim mcdermott committees', u'james mcgovern committees', u'candice miller committees', u'tim murphy committees', u'grace napolitano committees', u'richard neal committees', u'nancy pelosi committees', u'collin peterson committees', u'charles rangel committees', u'mike rogers committees', u'ileana ros-lehtinen committees', u'lucille roybal-allard committees', u'loretta sanchez committees', u'adam schiff committees', u'pete sessions committees', u'brad sherman committees', u'john shimkus committees', u'louise slaughter committees', u'mike thompson committees', u'tom udall committees', u'fred upton committees', u'pete visclosky committees', u'greg walden committees', u'maxine waters committees', u'ed whitfield committees', u'don young committees', u'tom price committees', u'lynn westmoreland committees', u'emanuel cleaver committees', u'jeff fortenberry committees', u'patrick mchenry committees', u'ted poe committees', u'michael mccaul committees', u'kenny marchant committees', u'henry cuellar committees', u'cathy mcmorris rodgers committees', u'gwen moore committees', u'doris matsui committees', u'albio sires committees', u'jerry mcnerney committees', u'doug lamborn committees', u'ed perlmutter committees', u'joe courtney committees', u'kathy castor committees', u'vern buchanan committees', u'dave loebsack committees', u'john yarmuth committees', u'john sarbanes committees', u'tim walberg committees', u'keith ellison committees', u'yvette clarke committees', u'peter welch committees', u'gus bilirakis committees', u'niki tsongas committees', u'robert wittman committees', u'jackie speier committees', u'steve scalise committees', u'bill cassidy committees', u'jason chaffetz committees', u'mike coffman committees', u'gregg harper committees', u'duncan hunter committees', u'lynn jenkins committees', u'leonard lance committees', u'cynthia lummis committees', u'erik paulsen committees', u'chellie pingree committees', u'jared polis committees', u'bill posey committees', u'kurt schrader committees', u'glenn thompson committees', u'dina titus committees', u'paul tonko committees', u'mark warner committees', u'jeanne shaheen committees', u'jeff merkley committees', u'judy chu committees', u'john garamendi committees', u'tom graves committees', u'chris coons committees', u'tom reed committees', u'mo brooks committees', u'terri sewell committees', u'steve womack committees', u'jeff denham committees', u'karen bass committees', u'scott tipton committees', u'cory gardner committees', u'john carney committees', u'frederica wilson committees', u'adam kinzinger committees', u'randy hultgren committees', u'todd rokita committees', u'tim huelskamp committees', u'kevin yoder committees', u'andy harris committees', u'dan benishek committees', u'bill huizenga committees', u'steven palazzo committees', u'vicky hartzler committees', u'billy long committees', u'joe heck committees', u'frank guinta committees', u'richard hanna committees', u'renee ellmers committees', u'steve stivers committees', u'bob gibbs committees', u'james lankford committees', u'tom marino committees', u'lou barletta committees', u'david cicilline committees', u'tim scott committees', u'kristi noem committees', u'scott desjarlais committees', u'diane black committees', u'stephen fincher committees', u'robert hurt committees', u'reid ribble committees', u'mark amodei committees', u'suzanne bonamici committees', u'suzan delbene committees', u'brian schatz committees', u'kyrsten sinema committees', u'doug lamalfa committees', u'jared huffman committees', u'ami bera committees', u'paul cook committees', u'julia brownley committees', u'raul ruiz committees', u'juan vargas committees', u'scott peters committees', u'elizabeth esty committees', u'ted yoho committees', u'ron desantis committees', u'doug collins committees', u'tulsi gabbard committees', u'rodney davis committees', u'jackie walorski committees', u'john delaney committees', u'ann wagner committees', u'steve daines committees', u'george holding committees', u'kevin cramer committees', u'ann kuster committees', u'michelle lujan grisham committees', u'grace meng committees', u'hakeem jeffries committees', u'brad wenstrup committees', u'joyce beatty committees', u'david joyce committees', u'jim bridenstine committees', u'markwayne mullin committees', u'scott perry committees', u'keith rothfus committees', u'tom rice committees', u'joaquin castro committees', u'chris stewart committees', u'derek kilmer committees', u'denny heck committees', u'mark pocan committees', u'bradley byrne committees', u'curt clawson committees', u'donald norcross committees', u'alma adams committees', u'bruce westerman committees', u'martha mcsally committees', u'ruben gallego committees', u'steve knight committees', u'pete aguilar committees', u'gwen graham committees', u'barry loudermilk committees', u'rod blum committees', u'mike bost committees', u'ralph abraham committees', u'seth moulton committees', u'john moolenaar committees', u'debbie dingell committees', u'tom emmer committees', u'ryan zinke committees', u'brad ashford committees', u'bonnie watson coleman committees', u'kathleen rice committees', u'brendan boyle committees', u'will hurd committees', u'brian babin committees', u'mia love committees', u'barbara comstock committees', u'dan newhouse committees', u'alex mooney committees', u'evan jenkins committees', u'dan sullivan committees', u'david perdue committees', u'joni ernst committees', u'thom tillis committees', u'mike rounds committees']\n",
      "hillary clinton\n",
      "[u'elizabeth warren hillary clinton', u'joe manchin hillary clinton', u'kirsten gillibrand hillary clinton', u'sherrod brown hillary clinton', u'john conyers hillary clinton', u'betty mccollum hillary clinton', u'richard neal hillary clinton', u'frank pallone hillary clinton', u'maxine waters hillary clinton', u'kathy castor hillary clinton', u'cory booker hillary clinton', u'debbie dingell hillary clinton']\n",
      "district office\n",
      "[u'doris matsui district office', u'karen bass district office', u'janice hahn district office']\n",
      "bernie sanders\n",
      "[u'patrick leahy and bernie sanders', u'elizabeth warren bernie sanders', u'claire mccaskill bernie sanders', u'bernie sanders', u'bernie sanders age', u'bernie sanders wife', u'bernie sanders poll', u'bernie sanders net worth', u'bernie sanders memes', u'bernie sanders twitter', u'bernie sanders young', u'bernie sanders news', u'bernie sanders height', u'james clyburn bernie sanders', u'peter defazio bernie sanders', u'ra\\xfal grijalva bernie sanders', u'john lewis bernie sanders', u'zoe lofgren bernie sanders', u'debbie wasserman schultz bernie sanders', u'keith ellison bernie sanders', u'donna edwards bernie sanders', u'tulsi gabbard bernie sanders', u'mark pocan bernie sanders', u'brenda lawrence bernie sanders']\n",
      "2016\n",
      "[u'barbara boxer 2016', u'lisa murkowski 2016', u'patty murray 2016', u'rand paul 2016', u'joe manchin 2016', u'pedro pierluisi 2016', u'michael einziger grammys 2016', u'anna eshoo 2016', u'louise slaughter 2016', u'robert lattas 2016', u'martha mcsally 2016']\n",
      "office\n",
      "[u'roy blunt dc office', u'mark kirk dc office', u'jerry moran dc office', u'rob portman dc office', u'david vitter office', u'barbara boxer office', u'charles grassley office', u'patrick leahy office', u'lisa murkowski dc office', u'patty murray dc office', u'harry reid office', u'charles schumer dc office', u'richard shelby office', u'ron wyden dc office', u'john thune dc office', u'lamar alexander office', u'lamar alexander dc office', u'richard blumenthal office', u'john hoeven office', u'john hoeven bismarck office', u'roger wicker office', u'deb fischer dc office', u'heidi heitkamp office', u'angus king office', u'joe manchin office', u'joe manchin dc office', u'pedro pierluisi office', u'martin heinrich dc office', u'bob corker office', u'sheldon whitehouse office', u'jon tester office', u'claire mccaskill dc office', u'amy klobuchar dc office', u'kirsten gillibrand dc office', u'dean heller dc office', u'joe donnelly dc office', u'mazie hirono office', u'debbie stabenow dc office', u'bill nelson dc office', u'orrin hatch dc office', u'dianne feinstein dc office', u'maria cantwell dc office', u'maria cantwell office', u'robert menendez office', u'jeff flake dc office', u'benjamin cardin office', u'sherrod brown office', u'sherrod brown dc office', u'tammy baldwin office', u'thad cochran office', u'susan collins dc office', u'john cornyn dc office', u'richard durbin office', u'mitch mcconnell office', u'sanford bishop office albany ga', u'marsha blackburn dc office', u'earl blumenauer dc office', u'madeleine bordallo guam office', u'kevin brady office', u'lois capps office', u'steve chabot dc office', u'mark walker dc office', u'jim cooper dc office', u'ander crenshaw dc office', u'john culberson dc office', u'john culberson office', u'elijah cummings office', u'diana degette office', u'rosa delauro dc office', u'anna eshoo office', u'trent franks office', u'trent franks office dc', u'rodney frelinghuysen office', u'scott garrett dc office', u'bob goodlatte office', u'kay granger dc office', u'sam graves dc office', u'sam graves office', u'sam graves kansas city office', u'raul grijalva office', u'raul grijalva tucson office', u'luis gutierrez office', u'alcee hastings dc office', u'jeb hensarling dc office', u'ruben hinojosa office', u'steny hoyer office', u'darrell issa dc office', u'sheila jackson lee dc office', u'sheila jackson lee office', u'sam johnson office', u'walter jones dc office', u'marcy kaptur dc office', u'ron kind dc office', u'james langevin office', u'john larson dc office', u'barbara lee dc office', u'zoe lofgren office', u'nita lowey office', u'nita lowey dc office', u'carolyn maloney dc office', u'edward markey office', u'edward markey boston office', u'betty mccollum office', u'tim murphy loan officer', u'jerrold nadler office', u'grace napolitano office', u'eleanor norton office', u'eleanor norton holmes office', u'bill pascrell office', u'nancy pelosi office', u'collin peterson dc office', u'collin peterson office', u'charles rangel dc office', u'dana rohrabacher office', u'bobby rush dc office', u'linda sanchez office', u'loretta sanchez dc office', u'janice schakowsky office', u'jan schakowsky office', u'brad sherman dc office', u'lamar smith dc office', u'tom udall dc office', u'fred upton dc office', u'chris van hollen office', u'nydia velazquez office', u'pete visclosky office', u'maxine waters office', u'ed whitfield office', u'joe wilson office', u'don young office', u'randy neugebauer lubbock office', u'matt salmon dc office', u'matt salmon office', u'tom price office', u'lynn westmoreland office', u'daniel lipinski office', u'brian higgins office', u'louie gohmert office', u'michael mccaul office', u'gwen moore dc office', u'doris matsui office', u'doris matsui district office', u'richard nolan dc office', u'doug lamborn office', u'ed perlmutter office', u'joe courtney office', u'kathy castor office', u'peter roskam dc office', u'dave loebsack davenport office', u'dave loebsack office', u'john yarmuth dc office', u'john yarmuth office', u'john sarbanes office', u'tim walberg office', u'keith ellison office', u'adrian smith dc office', u'jim jordan office', u'peter welch office', u'gus bilirakis dc office', u'gus bilirakis office', u'bill foster dc office', u'andre carson office', u'jackie speier dc office', u'steve scalise office', u'donna edwards office', u'jason chaffetz dc office', u'gerald connolly office', u'brett guthrie office', u'lynn jenkins office', u'lynn jenkins dc office', u'ann kirkpatrick dc office', u'ann kirkpatrick office', u'leonard lance office', u'cynthia lummis dc office', u'tom mcclintock office', u'erik paulsen dc office', u'ben sasse office', u'jared polis office', u'jared polis dc office', u'bill posey dc office', u'kurt schrader office', u'glenn thompson office', u'dina titus dc office', u'paul tonko dc office', u'mark warner office', u'jeanne shaheen office', u'marcia fudge dc office', u'mike quigley dc office', u'mike quigley office', u'judy chu dc office', u'judy chu office', u'john garamendi dc office', u'john garamendi fairfield office', u'ted deutch office', u'chris coons office', u'marlin stutzman dc office', u'tom reed dc office', u'martha roby office', u'terri sewell office', u'paul gosar office', u'david schweikert dc office', u'steve womack office', u'karen bass district office', u'adam kinzinger dc office', u'todd rokita office', u'kevin yoder dc office', u'andy harris office', u'bill huizenga office', u'steven palazzo dc office', u'billy long office', u'frank guinta office', u'steve stivers office', u'bob gibbs dc office', u'mike kelly dc office', u'tom marino dc office', u'lou barletta dc office', u'david cicilline office', u'tim scott dc office', u'jeff duncan dc office', u'bill flores dc office', u'blake farenthold office', u'david mckinley office', u'sean duffy dc office', u'janice hahn dc office', u'janice hahn district office', u'mark amodei office', u'thomas massie dc office', u'thomas massie office', u'suzan delbene dc office', u'suzan delbene office', u'brian schatz dc office', u'brian schatz office', u'doug lamalfa office', u'jared huffman dc office', u'ami bera dc office', u'paul cook dc office', u'eric swalwell dc office', u'eric swalwell office', u'david valadao dc office', u'david valadao office', u'julia brownley dc office', u'julia brownley office', u'tony cardenas office', u'raul ruiz dc office', u'mark takano office', u'mark takano dc office', u'alan lowenthal dc office', u'juan vargas office', u'elizabeth esty office', u'elizabeth esty dc office', u'ted yoho office', u'lois frankel dc office', u'doug collins dc office', u'doug collins office', u'rodney davis dc office', u'cheri bustos dc office', u'jackie walorski dc office', u'jackie walorski office', u'susan brooks office', u'luke messer dc office', u'john delaney office', u'ann wagner dc office', u'steve daines dc office', u'robert pittenger dc office', u'mark meadows office', u'mark meadows dc office', u'george holding dc office', u'kevin cramer office', u'ann kuster office', u'michelle lujan grisham albuquerque office', u'grace meng dc office', u'hakeem jeffries dc office', u'jim bridenstine dc office', u'jim bridenstine office', u'markwayne mullin office', u'markwayne mullin dc office', u'scott perry dc office', u'keith rothfus dc office', u'keith rothfus office', u'keith rothfus johnstown office', u'tom rice dc office', u'tom rice office', u'joaquin castro office', u'marc veasey dc office', u'derek kilmer dc office', u'denny heck dc office', u'mark pocan dc office', u'robin kelly dc office', u'katherine clark dc office', u'bradley byrne dc office', u'curt clawson dc office', u'donald norcross office', u'alma adams office', u'alma adams dc office', u'gary palmer dc office', u'french hill dc office', u'bruce westerman dc office', u'ruben gallego office', u'mark desaulnier office', u'pete aguilar dc office', u'ted lieu office', u'norma torres dc office', u'mimi walters dc office', u'gwen graham dc office', u'carlos curbelo dc office', u\"buddy carter's office\", u'jody hice dc office', u'rick allen office', u'rod blum dc office', u'ralph abraham office', u'garret graves dc office', u'bruce poliquin dc office', u'mike bishop dc office', u'brenda lawrence dc office', u'tom emmer dc office', u'ryan zinke dc office', u'brad ashford office', u'brad ashford dc office', u'tom macarthur office', u'bonnie watson coleman dc office', u'cresent hardy office', u'lee zeldin dc office', u'kathleen rice dc office', u'brendan boyle office', u'john ratcliffe dc office', u'will hurd office', u'will hurd dc office', u'mia love office', u'barbara comstock office', u'stacey plaskett office', u'dan newhouse dc office', u'glenn grothman office', u'evan jenkins office', u'evan jenkins dc office', u'joni ernst dc office', u'thom tillis dc office', u'thom tillis office']\n",
      "internship\n",
      "[u'barbara boxer internship', u'patrick leahy internship', u'patty murray internship', u'charles schumer internship', u'john thune internship', u'richard blumenthal internship', u'angus king internship', u'elizabeth warren internship', u'martin heinrich internship', u'john barrasso internship', u'robert casey internship', u'jon tester internship', u'claire mccaskill internship', u'amy klobuchar internship', u'kirsten gillibrand internship', u'mazie hirono internship', u'debbie stabenow internship', u'dianne feinstein internship', u'maria cantwell internships', u'tammy baldwin internship', u'richard durbin internship', u'earl blumenauer internship', u'madeleine bordallo internship', u'jim cooper internship', u'rosa delauro internship', u'mario diaz-balart internship', u'eliot engel internship', u'anna eshoo internship', u'rodney frelinghuysen internship', u'steny hoyer internship', u'darrell issa internship', u'james langevin internship', u'john larson internship', u'sander levin internship', u'frank lobiondo internship', u'zoe lofgren internship', u'nita lowey internship', u'edward markey internship', u'jim mcdermott internship', u'jerrold nadler internship', u'grace napolitano internship', u'richard neal internship', u'frank pallone internship', u'bill pascrell internship', u'nancy pelosi internship', u'charles rangel internship', u'ileana ros-lehtinen internship', u'linda sanchez internship', u'louise slaughter internship', u'chris van hollen internship', u'pete visclosky internship', u'kenny marchant internship', u'henry cuellar internship', u'doris matsui internship', u'albio sires internship', u'doug lamborn internship', u'john yarmuth internship', u'keith ellison internship', u'yvette clarke internship', u'niki tsongas internships', u'jackie speier internship', u'steve scalise internship', u'brett guthrie internship', u'gregg harper internship', u'lynn jenkins internship', u'cynthia lummis internship', u'tom mcclintock internship', u'pete olson internship', u'erik paulsen internship', u'gary peters internship', u'chellie pingree internship', u'bill posey internships', u'paul tonko internship', u'mark warner internship', u'jeanne shaheen internship', u'jeff merkley internship', u'marcia fudge internship', u'david schweikert internship', u'steve womack internship', u'cory gardner internship', u'randy hultgren internship', u'todd rokita internship', u'larry bucshon internship', u'tim huelskamp internship', u'andy harris internship', u'dan benishek internship', u'steve stivers internship', u'kristi noem internship', u'suzanne bonamici internship', u'thomas massie internship', u'jared huffman internship', u'alan lowenthal internship', u'lois frankel internship', u'tammy duckworth internship', u'john delaney internship', u'kevin cramer internship', u'joaquin castro internship', u'marc veasey internship', u'cory booker internship', u'katherine clark internship', u'jody hice internship', u'barry loudermilk internship', u'mark takai internship', u'david rouzer internship', u'tom macarthur internship', u'bonnie watson coleman internship', u'dan newhouse internship', u'david perdue internship', u'thom tillis internship']\n",
      "bio\n",
      "[u'michael crapo bio', u'michael dean crapo biography', u'charles grassley bio', u'lisa murkowski biography', u'ron wyden bio', u'lamar alexander bio', u'daniel coats biography', u'marco rubio', u'marco rubio wife', u'marco rubio height', u'marco rubio age', u'marco rubio twitter', u'marco rubio boots', u'marco rubio net worth', u'marco rubio kids', u'marco rubio water', u'marco rubio polls', u'roger wicker bio', u'timothy kaine biography', u'heidi heitkamp bio', u'pedro pierluisi biografia', u'robert casey biography', u'jon tester biography', u'mazie hirono bio', u'thomas carper biography', u'robert menendez biography', u'robert menendez bio', u'tammy baldwin bio', u'joseph biden biography', u'john cornyn bio', u'richard durbin bio', u'jefferson sessions biography', u'jefferson sessions bio', u'rob bishop bio', u'lois capps bio', u'john conyers bio', u'ander crenshaw bio', u'peter defazio biography', u'trent franks bio', u'rodney frelinghuysen biography', u'kay granger bio', u'gene green bio', u'raul grijalva biography', u'luis gutierrez biography', u'jeb hensarling bio', u'ruben hinojosa biography', u'michael honda biography', u'darrell issa marco rubio', u'john kline rubio', u'james langevin biography', u'james langevin bio', u'john lewis biography', u'frank lobiondo', u'frank lobiondo staff', u'frank lobiondo for congress', u'frank lobiondo facebook', u'frank lobiondo committees', u'frank lobiondo internship', u'frank lobiondo nj', u'frank lobiondo voting record', u'frank lobiondo net worth', u'frank lobiondo bio', u'nita lowey biography', u'carolyn maloney bio', u'grace napolitano bio', u'nancy pelosi bio', u'joseph pitts biography', u'ileana ros-lehtinen bio', u'janice schakowsky biography', u'bennie thompson bio', u'fred upton bio', u'nydia vel\\xe1zquez biography', u'nydia velazquez bio', u'pete visclosky bio', u'greg walden bio', u'maxine waters biography', u'matt salmon bio', u'jim costa bio', u'debbie wasserman schultz bio', u'lynn westmoreland rubio', u'charles boustany bio', u'emanuel cleaver bio', u'jeff fortenberry bio', u'virginia foxx bio', u'michael mccaul bio', u'cathy mcmorris rodgers bio', u'albio sires', u'albio sires staff', u'albio sires congressman', u'albio sires chief of staff', u'albio sires facebook', u'albio sires internship', u'albio sires cuba', u'albio sires twitter', u'albio sires school', u'albio sires committees', u'jerry mcnerney bio', u'doug lamborn biography', u'ed perlmutter bio', u'vern buchanan bio', u'john yarmuth bio', u'tim walberg bio', u'keith ellison bio', u'yvette clarke bio', u'niki tsongas bio', u'robert wittman biography', u'andre carson bio', u'andre carson biography', u'jackie speier bio', u'jason chaffetz rubio', u'mike coffman bio', u'gerald connolly bio', u'leonard lance bio', u'cynthia lummis bio', u'chellie pingree bio', u'kurt schrader bio', u'ted deutch bio', u'martha roby bio', u'jeff denham bio', u'karen bass bio', u'cory gardner marco rubio', u'frederica wilson bio', u'austin scott marco rubio', u'raul labrador bio', u'raul labrador biography', u'larry bucshon bio', u'kevin yoder bio', u'mike pompeo biography', u'mike pompeo bio', u'bill huizenga bio', u'steven palazzo biography', u'vicky hartzler bio', u'frank guinta bio', u'steve stivers bio', u'james lankford bio', u'david cicilline bio', u'tim scott rubio', u'mick mulvaney bio', u'kristi noem bio', u'reid ribble bio', u'mark amodei bio', u'suzan delbene bio', u'brian schatz bio', u'kyrsten sinema bio', u'julia brownley bio', u'tony cardenas bio', u'mark takano biography', u'ted yoho bio', u'ron desantis bio', u'patrick murphy bio', u'susan brooks bio', u'luke messer bio', u'ann wagner bio', u'ann kuster bio', u'michelle lujan grisham bio', u'brad wenstrup bio', u'joyce beatty bio', u'jim bridenstine bio', u'matthew cartwright biography', u'filemon vela bio', u'mark pocan bio', u'bradley byrne bio', u'french hill bio', u'bruce westerman biography', u'pete aguilar bio', u'norma torres bio', u'barry loudermilk biography', u'garret graves bio', u'seth moulton bio', u'bruce poliquin biography', u'john moolenaar bio', u'debbie dingell bio', u'david rouzer biography', u'tom macarthur bio', u'bonnie watson coleman bio', u'cresent hardy rubio', u'lee zeldin bio', u'steve russell bio', u'ryan costello bio', u'john ratcliffe biography', u'barbara comstock bio', u'stacey plaskett bio', u'stacey plaskett biography', u'dan newhouse bio', u'glenn grothman bio', u'aumua amata biography', u'joni ernst bio', u'thom tillis bio']\n",
      "husband\n",
      "[u'barbara mikulski husband', u'heidi heitkamp husband', u'debbie wasserman schultz husband', u'donna edwards husband', u'cynthia lummis husband', u'chellie pingree husband', u'bonnie watson coleman husband', u'mia love husband']\n",
      "pronunciation\n",
      "[u'diana degette pronunciation', u'ileana ros-lehtinen pronunciation']\n"
     ]
    }
   ],
   "source": [
    "for term in suggestions[0:13] + suggestions[-10:]:\n",
    "    print term\n",
    "    searches, people = find_people_for_term(df, term)\n",
    "    print searches\n",
    "#print people"
   ]
  },
  {
   "cell_type": "markdown",
   "metadata": {},
   "source": [
    "# Write the results to CSV for qualitative/macro analysis"
   ]
  },
  {
   "cell_type": "raw",
   "metadata": {
    "collapsed": false
   },
   "source": [
    "temp_list = []\n",
    "temp0_list = []\n",
    "male_list = []\n",
    "female_list = []\n",
    "\n",
    "for i in df_male['suggestion']:\n",
    "    temp_list.append(([e.split(' ')[2:] for e in i]))\n",
    "\n",
    "for i in temp_list:\n",
    "    for k in i:\n",
    "        male_list.extend(k)\n",
    "\n",
    "for i in df_female['suggestion']:\n",
    "    temp0_list.append(([e.split(' ')[2:] for e in i]))\n",
    "\n",
    "for i in temp0_list:\n",
    "    for k in i:\n",
    "        female_list.extend(k)\n",
    "\n",
    "female_list"
   ]
  },
  {
   "cell_type": "code",
   "execution_count": 45,
   "metadata": {
    "collapsed": false
   },
   "outputs": [],
   "source": [
    "test1 = []\n",
    "test2 = []\n",
    "key_list = []\n",
    "\n",
    "import csv\n",
    "from itertools import izip\n",
    "\n",
    "with open('input.csv', 'wb') as myfile:\n",
    "    wr = csv.writer(myfile, quoting=csv.QUOTE_ALL)\n",
    "    wr.writerow(key_list)\n",
    "    wr.writerow(test1)\n",
    "    wr.writerow(test2)\n",
    "    myfile.close()\n",
    "\n",
    "a = izip(*csv.reader(open(\"input.csv\", \"rb\")))\n",
    "csv.writer(open(\"output1.csv\", \"wb\")).writerows(a)"
   ]
  },
  {
   "cell_type": "markdown",
   "metadata": {},
   "source": [
    "# Comparison between Democrat and Republican"
   ]
  },
  {
   "cell_type": "code",
   "execution_count": 12,
   "metadata": {
    "collapsed": false
   },
   "outputs": [
    {
     "name": "stdout",
     "output_type": "stream",
     "text": [
      "trump: -113440.790874\n",
      "        a: 1 b: 29\n",
      "donald trump: -805.481209154\n",
      "        a: 0 b: 15\n",
      "voting record: -69.0705773545\n",
      "        a: 16 b: 41\n",
      "supreme court: -45.6340764743\n",
      "        a: 6 b: 22\n",
      "primary: -31.9490138952\n",
      "        a: 14 b: 35\n",
      "address: -11.0131440753\n",
      "        a: 5 b: 16\n",
      "ted cruz: -10.6407460853\n",
      "        a: 1 b: 8\n",
      "congress: -6.61889089169\n",
      "        a: 31 b: 54\n",
      "wife: -4.76085306408\n",
      "        a: 11 b: 23\n",
      "florida: -3.14108928601\n",
      "        a: 2 b: 7\n",
      "actor: -2.46862305621\n",
      "        a: 3 b: 8\n",
      "district: -2.42048014937\n",
      "        a: 37 b: 56\n",
      "for congress: -2.37120511402\n",
      "        a: 111 b: 152\n",
      "committee assignments: -2.20468627129\n",
      "        a: 12 b: 21\n",
      "website: -2.17901127556\n",
      "        a: 2 b: 6\n",
      "for senate: -1.68208037898\n",
      "        a: 8 b: 14\n",
      "retiring: -1.61968196665\n",
      "        a: 6 b: 11\n",
      "staff: -1.55451515723\n",
      "        a: 172 b: 224\n",
      "chief staff: -1.50182600817\n",
      "        a: 67 b: 91\n",
      "twitter: -1.2147132024\n",
      "        a: 171 b: 220\n",
      "facebook: -1.07515543879\n",
      "        a: 86 b: 111\n",
      "senate: -1.04890050356\n",
      "        a: 20 b: 26\n",
      "quotes: -1.04523201044\n",
      "        a: 4 b: 6\n",
      "email address: -1.04523201044\n",
      "        a: 4 b: 6\n",
      "wiki: -1.03980960161\n",
      "        a: 43 b: 56\n",
      "youtube: -1.01893279767\n",
      "        a: 3 b: 5\n",
      "immigration: -1.01893279767\n",
      "        a: 3 b: 5\n",
      "age: -1.01893279767\n",
      "        a: 3 b: 5\n",
      "linkedin: -1.00257803306\n",
      "        a: 7 b: 10\n",
      "net worth: 1.01187509822\n",
      "        a: 19 b: 23\n",
      "endorsement: 1.05471440047\n",
      "        a: 7 b: 8\n",
      "contact: 1.08831359716\n",
      "        a: 10 b: 11\n",
      ": 1.19327513901\n",
      "        a: 237 b: 299\n",
      "email: 1.20664672472\n",
      "        a: 8 b: 10\n",
      "family: 1.55309801932\n",
      "        a: 8 b: 7\n",
      "biography: 1.57385380482\n",
      "        a: 15 b: 15\n",
      "bio: 1.89213641575\n",
      "        a: 52 b: 58\n",
      "committees: 1.97801928442\n",
      "        a: 124 b: 147\n",
      "instagram: 2.15851094618\n",
      "        a: 9 b: 7\n",
      "2016: 3.31559540565\n",
      "        a: 6 b: 3\n",
      "office: 3.3160668416\n",
      "        a: 127 b: 146\n",
      "district map: 3.45620947096\n",
      "        a: 18 b: 15\n",
      "obituary: 4.50002730896\n",
      "        a: 14 b: 10\n",
      "husband: 6.32369639994\n",
      "        a: 6 b: 2\n",
      "cuba: 11.5774150344\n",
      "        a: 12 b: 6\n",
      "scheduler: 39.3237221496\n",
      "        a: 9 b: 2\n",
      "tpp: 98.8121097105\n",
      "        a: 12 b: 3\n",
      "internship: 1080.11891361\n",
      "        a: 59 b: 40\n",
      "bernie sanders: 15192.3103001\n",
      "        a: 14 b: 0\n",
      "hillary clinton: 505290.601016\n",
      "        a: 19 b: 0\n"
     ]
    }
   ],
   "source": [
    "test1 = []\n",
    "test2 = []\n",
    "key_list = []\n",
    "\n",
    "df_democrat = df[df[\"party\"]==\"Democrat\"]\n",
    "df_republic = df[df[\"party\"]==\"Republican\"]\n",
    "\n",
    "suggestions, values = compare_suggestions(df_democrat, df_republic)"
   ]
  },
  {
   "cell_type": "markdown",
   "metadata": {},
   "source": [
    "# Compare within parties and within genders"
   ]
  },
  {
   "cell_type": "code",
   "execution_count": 33,
   "metadata": {
    "collapsed": false
   },
   "outputs": [
    {
     "name": "stdout",
     "output_type": "stream",
     "text": [
      "Female Democrats: 79\n",
      "Female Republicans: 29\n",
      "Male Democrats: 159\n",
      "Male Republicans: 272\n"
     ]
    }
   ],
   "source": [
    "\n",
    "df_female_dem = df[(df[\"gender\"]==\"female\") & (df[\"party\"]==\"Democrat\")]\n",
    "df_female_rep = df[(df[\"gender\"]==\"female\") & (df[\"party\"]==\"Republican\")]\n",
    "df_male_dem = df[(df[\"gender\"]==\"male\") & (df[\"party\"]==\"Democrat\")]\n",
    "df_male_rep = df[(df[\"gender\"]==\"male\") & (df[\"party\"]==\"Republican\")]\n",
    "\n",
    "print \"Female Democrats: \" + str(len(df_female_dem))\n",
    "print \"Female Republicans: \" + str(len(df_female_rep))\n",
    "print \"Male Democrats: \" + str(len(df_male_dem))\n",
    "print \"Male Republicans: \" + str(len(df_male_rep))"
   ]
  },
  {
   "cell_type": "code",
   "execution_count": 34,
   "metadata": {
    "collapsed": false
   },
   "outputs": [
    {
     "name": "stdout",
     "output_type": "stream",
     "text": [
      "district: -120.711101867\n",
      "        a: 12 b: 12\n",
      "wiki: -3.25463600429\n",
      "        a: 13 b: 8\n",
      "staff: -1.96631585977\n",
      "        a: 68 b: 27\n",
      "twitter: -1.90278855816\n",
      "        a: 65 b: 26\n",
      "voting record: -1.43898122396\n",
      "        a: 7 b: 4\n",
      "congress: -1.05506988502\n",
      "        a: 6 b: 3\n",
      "chief staff: 1.01011964332\n",
      "        a: 29 b: 10\n",
      "facebook: 1.04388545945\n",
      "        a: 35 b: 12\n",
      "senate: 1.15352027068\n",
      "        a: 11 b: 3\n",
      "for congress: 1.15597497871\n",
      "        a: 44 b: 16\n",
      "bio: 1.15627297614\n",
      "        a: 25 b: 8\n",
      "committees: 1.21033616375\n",
      "        a: 50 b: 17\n",
      "husband: 1.29783287125\n",
      "        a: 6 b: 2\n",
      "office: 2.06693326713\n",
      "        a: 59 b: 19\n",
      "hillary clinton: 7.56710170471\n",
      "        a: 9 b: 0\n",
      "internship: 8.83850655362\n",
      "        a: 28 b: 5\n",
      "district map: 9.83572827974\n",
      "        a: 10 b: 0\n"
     ]
    }
   ],
   "source": [
    "suggestions, values = compare_suggestions(df_female_dem, df_female_rep)"
   ]
  },
  {
   "cell_type": "code",
   "execution_count": 35,
   "metadata": {
    "collapsed": false
   },
   "outputs": [
    {
     "name": "stdout",
     "output_type": "stream",
     "text": [
      "obituary: -65.5187073386\n",
      "        a: 0 b: 14\n",
      "wife: -25.7537097375\n",
      "        a: 0 b: 11\n",
      "congress: -8.25394397331\n",
      "        a: 6 b: 25\n",
      "committee assignments: -2.8506865158\n",
      "        a: 2 b: 10\n",
      "tpp: -1.31379894823\n",
      "        a: 3 b: 9\n",
      "wiki: -1.2786220854\n",
      "        a: 13 b: 30\n",
      "for senate: -1.1043776222\n",
      "        a: 2 b: 6\n",
      "net worth: -1.08482801635\n",
      "        a: 6 b: 13\n",
      "primary: -1.07360467109\n",
      "        a: 4 b: 10\n",
      "district: -1.0708344978\n",
      "        a: 12 b: 25\n",
      "family: 1.1043776222\n",
      "        a: 3 b: 5\n",
      "email: 1.1043776222\n",
      "        a: 3 b: 5\n",
      "contact: 1.10944954115\n",
      "        a: 4 b: 6\n",
      "biography: 1.27203114124\n",
      "        a: 5 b: 10\n",
      "cuba: 1.31379894823\n",
      "        a: 4 b: 8\n",
      "instagram: 1.37921657175\n",
      "        a: 3 b: 6\n",
      "voting record: 1.94796710794\n",
      "        a: 7 b: 9\n",
      "bernie sanders: 3.59237470156\n",
      "        a: 7 b: 7\n",
      "scheduler: 3.63589959674\n",
      "        a: 5 b: 4\n",
      "hillary clinton: 3.76903226261\n",
      "        a: 9 b: 10\n",
      "facebook: 11.3622319055\n",
      "        a: 35 b: 51\n",
      "district map: 15.0440485679\n",
      "        a: 10 b: 8\n",
      "for congress: 15.0834230037\n",
      "        a: 44 b: 67\n",
      "senate: 18.0533381583\n",
      "        a: 11 b: 9\n",
      "chief staff: 18.0677258804\n",
      "        a: 29 b: 38\n",
      "committees: 46.393624361\n",
      "        a: 50 b: 74\n",
      "twitter: 56.0370503332\n",
      "        a: 65 b: 106\n",
      "bio: 62.9599062924\n",
      "        a: 25 b: 27\n",
      "internship: 86.0657059295\n",
      "        a: 28 b: 31\n",
      "staff: 727.957513979\n",
      "        a: 68 b: 104\n",
      "office: 154150.153778\n",
      "        a: 59 b: 68\n"
     ]
    }
   ],
   "source": [
    "suggestions, values = compare_suggestions(df_female_dem, df_male_dem)"
   ]
  },
  {
   "cell_type": "code",
   "execution_count": 36,
   "metadata": {
    "collapsed": false
   },
   "outputs": [
    {
     "name": "stdout",
     "output_type": "stream",
     "text": [
      "wife: -4.83026950552\n",
      "        a: 0 b: 23\n",
      "congress: -2.59054312728\n",
      "        a: 3 b: 51\n",
      "district map: -2.52424627093\n",
      "        a: 0 b: 15\n",
      "contact: -1.78558144476\n",
      "        a: 0 b: 11\n",
      "primary: -1.68035063541\n",
      "        a: 2 b: 33\n",
      "net worth: -1.67064131526\n",
      "        a: 1 b: 22\n",
      "linkedin: -1.63013096932\n",
      "        a: 0 b: 10\n",
      "obituary: -1.63013096932\n",
      "        a: 0 b: 10\n",
      "retiring: -1.54617025842\n",
      "        a: 1 b: 10\n",
      "committee assignments: -1.39920670793\n",
      "        a: 2 b: 19\n",
      "actor: -1.34720036692\n",
      "        a: 0 b: 8\n",
      "ted cruz: -1.34720036692\n",
      "        a: 0 b: 8\n",
      "supreme court: -1.28987604912\n",
      "        a: 2 b: 20\n",
      "biography: -1.04085156511\n",
      "        a: 1 b: 14\n",
      "donald trump: -1.04085156511\n",
      "        a: 1 b: 14\n",
      "address: -1.02970190689\n",
      "        a: 1 b: 15\n",
      "senate: 1.00277255178\n",
      "        a: 3 b: 23\n",
      "for senate: 1.12550871464\n",
      "        a: 2 b: 12\n",
      "voting record: 1.25365407194\n",
      "        a: 4 b: 37\n",
      "chief staff: 1.32388062321\n",
      "        a: 10 b: 81\n",
      "facebook: 1.34358195184\n",
      "        a: 12 b: 99\n",
      "endorsement: 1.34720036692\n",
      "        a: 1 b: 7\n",
      "for congress: 1.35465318005\n",
      "        a: 16 b: 136\n",
      "internship: 1.40844343914\n",
      "        a: 5 b: 35\n",
      "email: 1.78997992438\n",
      "        a: 2 b: 8\n",
      "committees: 2.7696991181\n",
      "        a: 17 b: 130\n",
      "bio: 2.90982557989\n",
      "        a: 8 b: 50\n",
      "wiki: 3.43949923852\n",
      "        a: 8 b: 48\n",
      "trump: 3.86519360156\n",
      "        a: 5 b: 24\n",
      "office: 12.0320143943\n",
      "        a: 19 b: 127\n",
      "twitter: 17.2438224919\n",
      "        a: 26 b: 194\n",
      "staff: 36.1564258926\n",
      "        a: 27 b: 197\n",
      "district: 458.540529586\n",
      "        a: 12 b: 44\n"
     ]
    }
   ],
   "source": [
    "suggestions, values = compare_suggestions(df_female_rep, df_male_rep)"
   ]
  },
  {
   "cell_type": "code",
   "execution_count": null,
   "metadata": {
    "collapsed": true
   },
   "outputs": [],
   "source": []
  }
 ],
 "metadata": {
  "kernelspec": {
   "display_name": "Python 2",
   "language": "python",
   "name": "python2"
  },
  "language_info": {
   "codemirror_mode": {
    "name": "ipython",
    "version": 2
   },
   "file_extension": ".py",
   "mimetype": "text/x-python",
   "name": "python",
   "nbconvert_exporter": "python",
   "pygments_lexer": "ipython2",
   "version": "2.7.10"
  }
 },
 "nbformat": 4,
 "nbformat_minor": 0
}
